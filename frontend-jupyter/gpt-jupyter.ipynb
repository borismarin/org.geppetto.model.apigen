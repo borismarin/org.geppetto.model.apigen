{
 "cells": [
  {
   "cell_type": "code",
   "execution_count": 20,
   "metadata": {
    "collapsed": false
   },
   "outputs": [
    {
     "data": {
      "application/javascript": [
       "document.domain='gpt.org'\n",
       "define('PyPopup', function() {\n",
       "\n",
       "   var view =  window.parent.require('widgets/pypopup/PyPopup')\n",
       "\n",
       "    return {\n",
       "        PyPopupView : view\n",
       "    };\n",
       "});"
      ],
      "text/plain": [
       "<IPython.core.display.Javascript object>"
      ]
     },
     "metadata": {},
     "output_type": "display_data"
    }
   ],
   "source": [
    "%%javascript\n",
    "document.domain='gpt.org'\n",
    "define('PyPopup', function() {\n",
    "\n",
    "   var view =  window.parent.require('widgets/pypopup/PyPopup')\n",
    "\n",
    "    return {\n",
    "        PyPopupView : view\n",
    "    };\n",
    "});"
   ]
  },
  {
   "cell_type": "code",
   "execution_count": 5,
   "metadata": {
    "collapsed": false
   },
   "outputs": [
    {
     "ename": "NameError",
     "evalue": "name 'pyPopup' is not defined",
     "output_type": "error",
     "traceback": [
      "\u001b[1;31m---------------------------------------------------------------------------\u001b[0m",
      "\u001b[1;31mNameError\u001b[0m                                 Traceback (most recent call last)",
      "\u001b[1;32m<ipython-input-5-702fc27dc694>\u001b[0m in \u001b[0;36m<module>\u001b[1;34m()\u001b[0m\n\u001b[1;32m----> 1\u001b[1;33m \u001b[0mpyPopup\u001b[0m\u001b[1;33m.\u001b[0m\u001b[0mvalue\u001b[0m \u001b[1;33m=\u001b[0m \u001b[1;34m'paki234'\u001b[0m\u001b[1;33m\u001b[0m\u001b[0m\n\u001b[0m",
      "\u001b[1;31mNameError\u001b[0m: name 'pyPopup' is not defined"
     ]
    }
   ],
   "source": [
    "#pyPopup.value = 'paki234'"
   ]
  },
  {
   "cell_type": "code",
   "execution_count": 387,
   "metadata": {
    "collapsed": true
   },
   "outputs": [],
   "source": [
    "#pyPopup.taka = 'paku'"
   ]
  },
  {
   "cell_type": "code",
   "execution_count": 388,
   "metadata": {
    "collapsed": false
   },
   "outputs": [
    {
     "data": {
      "text/plain": [
       "'paki234'"
      ]
     },
     "execution_count": 388,
     "metadata": {},
     "output_type": "execute_result"
    }
   ],
   "source": [
    "#pyPopup.value"
   ]
  },
  {
   "cell_type": "code",
   "execution_count": 21,
   "metadata": {
    "collapsed": false
   },
   "outputs": [
    {
     "data": {
      "application/javascript": [
       "window.parent.G.addWidget(9)"
      ],
      "text/plain": [
       "<IPython.core.display.Javascript object>"
      ]
     },
     "metadata": {},
     "output_type": "display_data"
    }
   ],
   "source": [
    "from geppettoLibrary import GeppettoController, PyPopupWidget\n",
    "GeppettoController.addWidget(9)"
   ]
  },
  {
   "cell_type": "code",
   "execution_count": 25,
   "metadata": {
    "collapsed": false
   },
   "outputs": [
    {
     "data": {
      "application/javascript": [
       "window.parent.GEPPETTO.WidgetFactory.pyPopupsController.subscribe()"
      ],
      "text/plain": [
       "<IPython.core.display.Javascript object>"
      ]
     },
     "metadata": {},
     "output_type": "display_data"
    }
   ],
   "source": [
    "PyPopup1.subscribe"
   ]
  },
  {
   "cell_type": "code",
   "execution_count": 29,
   "metadata": {
    "collapsed": false
   },
   "outputs": [
    {
     "data": {
      "application/javascript": [
       "window.parent.GEPPETTO.WidgetFactory.pyPopupsController.subscribe()"
      ],
      "text/plain": [
       "<IPython.core.display.Javascript object>"
      ]
     },
     "metadata": {},
     "output_type": "display_data"
    },
    {
     "ename": "TypeError",
     "evalue": "'NoneType' object is not callable",
     "output_type": "error",
     "traceback": [
      "\u001b[1;31m---------------------------------------------------------------------------\u001b[0m",
      "\u001b[1;31mTypeError\u001b[0m                                 Traceback (most recent call last)",
      "\u001b[1;32m<ipython-input-29-c7a91de27b00>\u001b[0m in \u001b[0;36m<module>\u001b[1;34m()\u001b[0m\n\u001b[0;32m      1\u001b[0m \u001b[0mPyPopup1\u001b[0m \u001b[1;33m=\u001b[0m \u001b[0mPyPopupWidget\u001b[0m\u001b[1;33m(\u001b[0m\u001b[0mid\u001b[0m\u001b[1;33m=\u001b[0m\u001b[1;34m'PyPopup1'\u001b[0m\u001b[1;33m,\u001b[0m \u001b[0mname\u001b[0m\u001b[1;33m=\u001b[0m\u001b[1;34m'PyPopup1'\u001b[0m\u001b[1;33m)\u001b[0m\u001b[1;33m\u001b[0m\u001b[0m\n\u001b[0;32m      2\u001b[0m \u001b[0mPyPopup1\u001b[0m\u001b[1;33m\u001b[0m\u001b[0m\n\u001b[1;32m----> 3\u001b[1;33m \u001b[0mPyPopup1\u001b[0m\u001b[1;33m.\u001b[0m\u001b[0msubscribe\u001b[0m\u001b[1;33m(\u001b[0m\u001b[1;33m)\u001b[0m\u001b[1;33m\u001b[0m\u001b[0m\n\u001b[0m",
      "\u001b[1;31mTypeError\u001b[0m: 'NoneType' object is not callable"
     ]
    }
   ],
   "source": [
    "PyPopup1 = PyPopupWidget(id='PyPopup1', name='PyPopup1')\n",
    "PyPopup1\n",
    "PyPopup1.subscribe()"
   ]
  },
  {
   "cell_type": "code",
   "execution_count": 34,
   "metadata": {
    "collapsed": true
   },
   "outputs": [],
   "source": [
    "PyPopup1 = PyPopupWidget(id='PyPopup1', name='PyPopup1')\n",
    "PyPopup1"
   ]
  },
  {
   "cell_type": "code",
   "execution_count": null,
   "metadata": {
    "collapsed": true
   },
   "outputs": [],
   "source": []
  }
 ],
 "metadata": {
  "kernelspec": {
   "display_name": "Python 3",
   "language": "python",
   "name": "python3"
  },
  "language_info": {
   "codemirror_mode": {
    "name": "ipython",
    "version": 3
   },
   "file_extension": ".py",
   "mimetype": "text/x-python",
   "name": "python",
   "nbconvert_exporter": "python",
   "pygments_lexer": "ipython3",
   "version": "3.4.3"
  },
  "widgets": {
   "state": {
    "052514d9c0ba49daa315debab7ca8d3c": {
     "views": []
    },
    "12bddf4cb3c5469487523d764ce5a081": {
     "views": []
    },
    "15526c8eb65244b9a8ffb675c0bc70aa": {
     "views": []
    },
    "17f013d9ee134e768491f29402bfc4e9": {
     "views": []
    },
    "28b1f78c32cc436c866e64680b43d356": {
     "views": []
    },
    "2c5b7027a6584c1b85c4eb806d7472bc": {
     "views": []
    },
    "309a28a1f61742b5ab75c790ebadcee2": {
     "views": []
    },
    "330d48256b5446bca23c985f7ef043f4": {
     "views": []
    },
    "386a0a2335f241b4a96d242dd9643a76": {
     "views": []
    },
    "39a72a4e808a4849a7b507eb78d28d54": {
     "views": []
    },
    "43ebaa3e33ec48ea9b5602f86cadc944": {
     "views": []
    },
    "47eaf616dba24a8582b8f1e7369989b9": {
     "views": []
    },
    "4ab6c7a487e1489e9ecd0485e4974cfe": {
     "views": []
    },
    "51c7ba6333624e678d5ed9a6089604c5": {
     "views": []
    },
    "541ddac1b18d4f9db534ff0eb1b02673": {
     "views": []
    },
    "620c6bbd9c70439b8695244e837b077f": {
     "views": []
    },
    "69e8420fd5c5423888c9e1f40629531d": {
     "views": []
    },
    "6f6561d3528b4459888f3c9d19765ae5": {
     "views": []
    },
    "8545a5d512964a38a57f4759809597e0": {
     "views": []
    },
    "87bc8ad9d4b24b93ab908568f35efb46": {
     "views": []
    },
    "89c6b1db7c95434ba72793c9cb68f2fd": {
     "views": []
    },
    "93161e4bab164fd5a593868aed7d1151": {
     "views": []
    },
    "9d0101700a304d6c9d4940e594b30f67": {
     "views": []
    },
    "9fa4be645d1e49c8a6bf0c9e49fdc097": {
     "views": []
    },
    "acfc4794627949edacc06fcda126a319": {
     "views": []
    },
    "b8d89d6575ea430ab9369d07bf6cdc34": {
     "views": []
    },
    "bdec2ca6bf7f48b1a36df3af069affd1": {
     "views": []
    },
    "c2a834ae6b674f869f5555801d197474": {
     "views": []
    },
    "c35073bc36f74ab08855984d98dfc1ed": {
     "views": []
    },
    "c391adcf777d4f23b57b93f2511cd150": {
     "views": []
    },
    "d326f620fe4a47c9b73ae431582e6f3d": {
     "views": []
    },
    "e0be9c26fca845149205abeb5ebc927c": {
     "views": []
    },
    "e3e2bc82e2fb480bae3e08419e2048ab": {
     "views": []
    },
    "eaafad83c1e043b0ba5e5b05e097f765": {
     "views": []
    },
    "ee5488d6cf31430c9c9de31d367604d3": {
     "views": []
    },
    "ef4b3e3980cf48368b3fd66a66d0fc8a": {
     "views": []
    },
    "f01a107b393f4e089aa0098a7413d006": {
     "views": []
    },
    "fccf8a88f5b24c94bda1f0b27157340b": {
     "views": []
    }
   },
   "version": "1.1.2"
  }
 },
 "nbformat": 4,
 "nbformat_minor": 0
}
