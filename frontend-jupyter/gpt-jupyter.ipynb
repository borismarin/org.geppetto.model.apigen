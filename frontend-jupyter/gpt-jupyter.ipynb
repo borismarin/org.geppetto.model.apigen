{
 "cells": [
  {
   "cell_type": "code",
   "execution_count": 97,
   "metadata": {
    "collapsed": false
   },
   "outputs": [
    {
     "data": {
      "application/javascript": [
       "document.domain='gpt.org'"
      ],
      "text/plain": [
       "<IPython.core.display.Javascript object>"
      ]
     },
     "metadata": {},
     "output_type": "display_data"
    }
   ],
   "source": [
    "%%javascript\n",
    "document.domain='gpt.org'"
   ]
  },
  {
   "cell_type": "code",
   "execution_count": 98,
   "metadata": {
    "collapsed": false
   },
   "outputs": [],
   "source": [
    "import ipywidgets as widgets\n",
    "from traitlets import Unicode\n",
    "class HelloWidget(widgets.DOMWidget):\n",
    "    _view_name = Unicode('PyVarVis2').tag(sync=True)\n",
    "    _view_module = Unicode('hello').tag(sync=True)\n",
    "    value = Unicode('Hello World!').tag(sync=True)"
   ]
  },
  {
   "cell_type": "code",
   "execution_count": 99,
   "metadata": {
    "collapsed": false
   },
   "outputs": [
    {
     "data": {
      "application/javascript": [
       "define('hello', function() {\n",
       "\n",
       "   var PyVarVis2 =  window.parent.require('widgets/pyvariablevisualiser/PyVariableVisualiser')\n",
       "\n",
       "    return {\n",
       "        PyVarVis2 : PyVarVis2\n",
       "    };\n",
       "});"
      ],
      "text/plain": [
       "<IPython.core.display.Javascript object>"
      ]
     },
     "metadata": {},
     "output_type": "display_data"
    }
   ],
   "source": [
    "%%javascript\n",
    "define('hello', function() {\n",
    "\n",
    "   var PyVarVis2 =  window.parent.require('widgets/pyvariablevisualiser/PyVariableVisualiser')\n",
    "\n",
    "    return {\n",
    "        PyVarVis2 : PyVarVis2\n",
    "    };\n",
    "});"
   ]
  },
  {
   "cell_type": "code",
   "execution_count": 100,
   "metadata": {
    "collapsed": false
   },
   "outputs": [],
   "source": [
    "w = HelloWidget()"
   ]
  },
  {
   "cell_type": "code",
   "execution_count": 101,
   "metadata": {
    "collapsed": true
   },
   "outputs": [],
   "source": [
    "w"
   ]
  },
  {
   "cell_type": "code",
   "execution_count": 55,
   "metadata": {
    "collapsed": false
   },
   "outputs": [],
   "source": [
    "w.value='taka'"
   ]
  },
  {
   "cell_type": "code",
   "execution_count": null,
   "metadata": {
    "collapsed": true
   },
   "outputs": [],
   "source": []
  }
 ],
 "metadata": {
  "kernelspec": {
   "display_name": "Python 3",
   "language": "python",
   "name": "python3"
  },
  "language_info": {
   "codemirror_mode": {
    "name": "ipython",
    "version": 3
   },
   "file_extension": ".py",
   "mimetype": "text/x-python",
   "name": "python",
   "nbconvert_exporter": "python",
   "pygments_lexer": "ipython3",
   "version": "3.4.3"
  },
  "widgets": {
   "state": {
    "028105c506854f8fb33685635958060a": {
     "views": []
    },
    "0a9258ef548c4d63ad3a4d3f3dd0019f": {
     "views": []
    },
    "10f033a089b642ef9a5943a027da2dea": {
     "views": []
    },
    "121fb36032eb47cf87251792f8b8becb": {
     "views": []
    },
    "1693a3707be347c6a621b753d9c46711": {
     "views": []
    },
    "2565b2a195044a479cffb541fc60e8ee": {
     "views": []
    },
    "2ee53b1da6cf4639bdb8e97e3cf69916": {
     "views": []
    },
    "2ffece61b41b48de9c0130dd6f078ba9": {
     "views": []
    },
    "4e5f44a3898142f59dbf7545f6c13183": {
     "views": []
    },
    "4e891b67a72b4ae79556d2b7428eb82a": {
     "views": []
    },
    "55234dbbd562424a85d1801121c03987": {
     "views": []
    },
    "562e5ba1732c4833b3924c2e1af8f56d": {
     "views": []
    },
    "56e638db9eda4455853d6d0663bcdd99": {
     "views": []
    },
    "584ef8261cdc40ae8bfb021b8cf8bdc0": {
     "views": []
    },
    "5b2bf5f5123b45ceb20e3688cfb6f89d": {
     "views": []
    },
    "5e779321827945328d2118776dbb5360": {
     "views": []
    },
    "604b76f294a94b4b9295fe4074d912e5": {
     "views": []
    },
    "663c2a4ee10948c180cf9d2772d718e3": {
     "views": []
    },
    "6690e195bba2481da835efd74a164465": {
     "views": []
    },
    "66c5a528be46470f85a2ff6db6353a0a": {
     "views": []
    },
    "77abb70a8a7249388dce05193221da54": {
     "views": []
    },
    "7afd23f320cf4bac8f254100a4df815b": {
     "views": []
    },
    "948ae7c6e2b245768ee849a5e1fdd616": {
     "views": []
    },
    "951860a408984e36aa0bfaabcc8b141b": {
     "views": []
    },
    "a145a04f76cf4b03823c4aedd5b220bc": {
     "views": []
    },
    "ab5962f8150a4930bb9f41db7a36bcf2": {
     "views": []
    },
    "abc69603675c481ba9933a4cca3c663d": {
     "views": []
    },
    "be23e7594a424262a0f179ee9e11693a": {
     "views": []
    },
    "c168d07b8b354d8c8f3c8dc2ce83d178": {
     "views": []
    },
    "c4a464e7839b40949be00329df6c9de1": {
     "views": []
    },
    "d08b13a15a22496ea4cec4d904282d3d": {
     "views": []
    },
    "d13ee22eb42c4509819a5fb74a2330d2": {
     "views": []
    },
    "d190b91c74224434b2a718d211707428": {
     "views": []
    },
    "d1b1d1655da146ae97cdcccc7153439a": {
     "views": []
    },
    "ddc1ffd9a0844b79a313e095da228b86": {
     "views": []
    },
    "e1049403bd554f7c9c1caaead151797d": {
     "views": []
    },
    "e92b954d491a4ba1be54ddd440335840": {
     "views": []
    },
    "eda560dea7244316a16e256b601dac01": {
     "views": []
    },
    "ef3020a536aa4a8aaf615caf9c9af1b0": {
     "views": []
    },
    "f0dc4dec817e4785b91d884f4507b488": {
     "views": []
    },
    "f10283030bb34c648f9c7643344bf622": {
     "views": []
    },
    "f9997978f8fb49f89c671610682a3990": {
     "views": []
    }
   },
   "version": "1.1.2"
  }
 },
 "nbformat": 4,
 "nbformat_minor": 0
}
