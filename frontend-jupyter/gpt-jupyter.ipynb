{
 "cells": [
  {
   "cell_type": "code",
   "execution_count": 1,
   "metadata": {
    "collapsed": false
   },
   "outputs": [
    {
     "name": "stdout",
     "output_type": "stream",
     "text": [
      "Received \"ping\"\n",
      "reading again: {\"type\":\"client_id\",\"data\":\"{\\\"clientID\\\":\\\"Connection4\\\"}\"}\n",
      "closing socket\n"
     ]
    }
   ],
   "source": [
    "%run gpt_socket.py"
   ]
  },
  {
   "cell_type": "code",
   "execution_count": 6,
   "metadata": {
    "collapsed": false
   },
   "outputs": [
    {
     "data": {
      "application/javascript": [
       "window.b = 123\n",
       "document.domain='gpt.org'\n",
       "console.log(window)\n",
       "console.log(window.parent)\n",
       "console.log(document.domain)\n",
       "console.log(window.parent.bbb)"
      ],
      "text/plain": [
       "<IPython.core.display.Javascript object>"
      ]
     },
     "metadata": {},
     "output_type": "display_data"
    }
   ],
   "source": [
    "%%javascript\n",
    "window.b = 123\n",
    "document.domain='gpt.org'\n",
    "console.log(window)\n",
    "console.log(window.parent)\n",
    "console.log(document.domain)\n",
    "console.log(window.parent.bbb)"
   ]
  },
  {
   "cell_type": "code",
   "execution_count": null,
   "metadata": {
    "collapsed": true
   },
   "outputs": [],
   "source": []
  }
 ],
 "metadata": {
  "kernelspec": {
   "display_name": "Python 2",
   "language": "python",
   "name": "python2"
  },
  "language_info": {
   "codemirror_mode": {
    "name": "ipython",
    "version": 2
   },
   "file_extension": ".py",
   "mimetype": "text/x-python",
   "name": "python",
   "nbconvert_exporter": "python",
   "pygments_lexer": "ipython2",
   "version": "2.7.11"
  }
 },
 "nbformat": 4,
 "nbformat_minor": 0
}
