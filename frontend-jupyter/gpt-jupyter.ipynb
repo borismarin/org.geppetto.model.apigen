{
 "cells": [
  {
   "cell_type": "code",
   "execution_count": 18,
   "metadata": {
    "collapsed": false
   },
   "outputs": [
    {
     "data": {
      "application/javascript": [
       "document.domain='gpt.org'\n",
       "define('PyPopup', function() {\n",
       "\n",
       "   var view =  window.parent.require('widgets/pypopup/PyPopup')\n",
       "\n",
       "    return {\n",
       "        PyPopupView : view\n",
       "    };\n",
       "});"
      ],
      "text/plain": [
       "<IPython.core.display.Javascript object>"
      ]
     },
     "metadata": {},
     "output_type": "display_data"
    }
   ],
   "source": [
    "%%javascript\n",
    "document.domain='gpt.org'\n",
    "define('PyPopup', function() {\n",
    "\n",
    "   var view =  window.parent.require('widgets/pypopup/PyPopup')\n",
    "\n",
    "    return {\n",
    "        PyPopupView : view\n",
    "    };\n",
    "});"
   ]
  },
  {
   "cell_type": "code",
   "execution_count": 386,
   "metadata": {
    "collapsed": true
   },
   "outputs": [],
   "source": [
    "pyPopup.value = 'paki234'"
   ]
  },
  {
   "cell_type": "code",
   "execution_count": 387,
   "metadata": {
    "collapsed": true
   },
   "outputs": [],
   "source": [
    "pyPopup.taka = 'paku'"
   ]
  },
  {
   "cell_type": "code",
   "execution_count": 388,
   "metadata": {
    "collapsed": false
   },
   "outputs": [
    {
     "data": {
      "text/plain": [
       "'paki234'"
      ]
     },
     "execution_count": 388,
     "metadata": {},
     "output_type": "execute_result"
    }
   ],
   "source": [
    "pyPopup.value"
   ]
  },
  {
   "cell_type": "code",
   "execution_count": 19,
   "metadata": {
    "collapsed": false
   },
   "outputs": [
    {
     "data": {
      "application/javascript": [
       "window.parent.G.addWidget(9)"
      ],
      "text/plain": [
       "<IPython.core.display.Javascript object>"
      ]
     },
     "metadata": {},
     "output_type": "display_data"
    }
   ],
   "source": [
    "from geppettoLibrary import GeppettoController, PyPopupWidget\n",
    "GeppettoController.addWidget(9)"
   ]
  },
  {
   "cell_type": "code",
   "execution_count": 23,
   "metadata": {
    "collapsed": false
   },
   "outputs": [
    {
     "data": {
      "application/javascript": [
       "window.parent.GEPPETTO.WidgetFactory.pyPopupsController.subscribe()"
      ],
      "text/plain": [
       "<IPython.core.display.Javascript object>"
      ]
     },
     "metadata": {},
     "output_type": "display_data"
    },
    {
     "ename": "AttributeError",
     "evalue": "'PyPopupWidget' object has no attribute 'subscribe'",
     "output_type": "error",
     "traceback": [
      "\u001b[1;31m---------------------------------------------------------------------------\u001b[0m",
      "\u001b[1;31mAttributeError\u001b[0m                            Traceback (most recent call last)",
      "\u001b[1;32m<ipython-input-23-c7a91de27b00>\u001b[0m in \u001b[0;36m<module>\u001b[1;34m()\u001b[0m\n\u001b[0;32m      1\u001b[0m \u001b[0mPyPopup1\u001b[0m \u001b[1;33m=\u001b[0m \u001b[0mPyPopupWidget\u001b[0m\u001b[1;33m(\u001b[0m\u001b[0mid\u001b[0m\u001b[1;33m=\u001b[0m\u001b[1;34m'PyPopup1'\u001b[0m\u001b[1;33m,\u001b[0m \u001b[0mname\u001b[0m\u001b[1;33m=\u001b[0m\u001b[1;34m'PyPopup1'\u001b[0m\u001b[1;33m)\u001b[0m\u001b[1;33m\u001b[0m\u001b[0m\n\u001b[0;32m      2\u001b[0m \u001b[0mPyPopup1\u001b[0m\u001b[1;33m\u001b[0m\u001b[0m\n\u001b[1;32m----> 3\u001b[1;33m \u001b[0mPyPopup1\u001b[0m\u001b[1;33m.\u001b[0m\u001b[0msubscribe\u001b[0m\u001b[1;33m(\u001b[0m\u001b[1;33m)\u001b[0m\u001b[1;33m\u001b[0m\u001b[0m\n\u001b[0m",
      "\u001b[1;31mAttributeError\u001b[0m: 'PyPopupWidget' object has no attribute 'subscribe'"
     ]
    }
   ],
   "source": [
    "PyPopup1 = PyPopupWidget(id='PyPopup1', name='PyPopup1')\n",
    "PyPopup1\n",
    "PyPopup1.subscribe()"
   ]
  }
 ],
 "metadata": {
  "kernelspec": {
   "display_name": "Python 3",
   "language": "python",
   "name": "python3"
  },
  "language_info": {
   "codemirror_mode": {
    "name": "ipython",
    "version": 3
   },
   "file_extension": ".py",
   "mimetype": "text/x-python",
   "name": "python",
   "nbconvert_exporter": "python",
   "pygments_lexer": "ipython3",
   "version": "3.4.3"
  },
  "widgets": {
   "state": {
    "0b4fe326506c42a796233fea10488869": {
     "views": []
    },
    "110579cc370d4ee0b3d3f46aed497a87": {
     "views": []
    },
    "337ecc27f54649f4a18f1b260bc36e8d": {
     "views": []
    },
    "395aa4164c98490e8acb75fca5648ade": {
     "views": []
    },
    "41465745232c4c248db62e66f7c58023": {
     "views": []
    },
    "5289410ad1f9468aa600b18dbc2c8ee9": {
     "views": []
    },
    "5c689a0a461242feac9b4acc0194acd0": {
     "views": []
    },
    "644d27b843924eeb8a72fcdfab661d92": {
     "views": []
    },
    "6b60ab7bea624b61a098f1a1e6b4d685": {
     "views": []
    },
    "6f7ca5750c9547a7893a0ed6d39d3e26": {
     "views": []
    },
    "7adac3610ea14e97a0a35a6af5ff36ae": {
     "views": []
    },
    "969a63b3363f4888a15ce239677cb4fb": {
     "views": []
    },
    "9de92b411a534febbcc4a4f896e24391": {
     "views": []
    },
    "a1ef595eacc94ad2b87c6b70119d4d52": {
     "views": []
    },
    "abf94c9281ad46fb8aab861884a81c3e": {
     "views": []
    },
    "b542caae651e470f9ea57151b5526127": {
     "views": []
    },
    "bc051f5879a347f5ac57229cba11dac6": {
     "views": []
    },
    "cc9885646f404eda883b89c575edb729": {
     "views": []
    },
    "d7d2f249c7514679af0251bb912f89fd": {
     "views": []
    },
    "ea2fa4ad123241c996709aa80a56391a": {
     "views": []
    },
    "eca43b5fb14447028a5dadfd4c61e59c": {
     "views": []
    },
    "f4e1482e43e04a6c9acc1895fff10909": {
     "views": []
    }
   },
   "version": "1.1.2"
  }
 },
 "nbformat": 4,
 "nbformat_minor": 0
}
