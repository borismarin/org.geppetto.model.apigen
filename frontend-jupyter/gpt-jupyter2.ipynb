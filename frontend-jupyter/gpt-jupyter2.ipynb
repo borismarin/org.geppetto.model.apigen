{
 "cells": [
  {
   "cell_type": "code",
   "execution_count": 71,
   "metadata": {
    "collapsed": false
   },
   "outputs": [
    {
     "data": {
      "application/javascript": [
       "document.domain='gpt.org'\n",
       "require.undef('panel');\n",
       "define('panel', [\"jupyter-js-widgets\"], function(widgets) {\n",
       "\n",
       "var React = window.parent.require('react');\n",
       "var PanelComp = window.parent.require('jsx!components/dev/panel/Panel');\n",
       "var ReactDOM = window.parent.require('react-dom');\n",
       "    \n",
       "var $jParent = window.parent.jQuery.noConflict();\n",
       "    \n",
       "var PanelView = widgets.DOMWidgetView.extend({\n",
       "    initialize: function (options) {\n",
       "        this.options = options || {};\n",
       "    },\n",
       "\n",
       "    component: function () {\n",
       "        return new PanelComp(\n",
       "          {id: \"RunControl\", name:\"Run Control\"}\n",
       "        );\n",
       "    },\n",
       "\n",
       "    createFloatingPanel: function (component){\n",
       "    var containerId = component.props.id + \"_container\";\n",
       "    var containerName = component.props.name;\n",
       "\n",
       "    //create the dialog window for the widget\n",
       "    var dialog = $jParent(\"<div id=\" + containerId + \" class='dialog' title='\" + containerName + \"'></div>\").dialog(\n",
       "    {\n",
       "        resizable: true,\n",
       "        draggable: true,\n",
       "        top: 10,\n",
       "        height: 300,\n",
       "        width: 350,\n",
       "        close: function (event, ui) {\n",
       "            if (event.originalEvent &&\n",
       "            $jParent(event.originalEvent.target).closest(\".ui-dialog-titlebar-close\").length) {\n",
       "                $jParent(\"#\" + this.id).remove();\n",
       "            }\n",
       "        },\n",
       "        appendTo: \"\"\n",
       "    });\n",
       "\n",
       "    this.$el = $jParent(\"#\" + this.id);\n",
       "    \n",
       "    var dialogParent = dialog.parent();\n",
       "    var that = this;\n",
       "\n",
       "    //add history\n",
       "    dialogParent.find(\"div.ui-dialog-titlebar\").prepend(\"<div class='fa fa-history historyIcon'></div>\");\n",
       "    dialogParent.find(\"div.historyIcon\").click(function (event) {\n",
       "        that.showHistoryMenu(event);\n",
       "        event.stopPropagation();\n",
       "    });\n",
       "\n",
       "    //remove the jQuery UI icon\n",
       "    dialogParent.find(\"button.ui-dialog-titlebar-close\").html(\"\");\n",
       "    dialogParent.find(\"button\").append(\"<i class='fa fa-close'></i>\");\n",
       "    //Take focus away from close button\n",
       "    dialogParent.find(\"button.ui-dialog-titlebar-close\").blur();\t\n",
       "\n",
       "    return dialog.get(0);\n",
       "},\n",
       "    \n",
       "    // Render the view.\n",
       "    render: function() {\n",
       "        \n",
       "        \n",
       "        var comp = React.createFactory(PanelComp)({id: \"RunControl\", name:\"Run Control\"});\n",
       "        var floatingPanel = this.createFloatingPanel(comp)\n",
       "        ReactDOM.render(comp, this.el)\n",
       "        \n",
       "    }\n",
       "});\n",
       "\n",
       "    return {\n",
       "        PanelView: PanelView\n",
       "    };\n",
       "});"
      ],
      "text/plain": [
       "<IPython.core.display.Javascript object>"
      ]
     },
     "metadata": {},
     "output_type": "display_data"
    }
   ],
   "source": [
    "%%javascript\n",
    "document.domain='gpt.org'\n",
    "require.undef('panel');\n",
    "define('panel', [\"jupyter-js-widgets\"], function(widgets) {\n",
    "\n",
    "var React = window.parent.require('react');\n",
    "var PanelComp = window.parent.require('jsx!components/dev/panel/Panel');\n",
    "var ReactDOM = window.parent.require('react-dom');\n",
    "    \n",
    "var $jParent = window.parent.jQuery.noConflict();\n",
    "    \n",
    "var PanelView = widgets.DOMWidgetView.extend({\n",
    "    initialize: function (options) {\n",
    "        this.options = options || {};\n",
    "    },\n",
    "\n",
    "    component: function () {\n",
    "        return new PanelComp(\n",
    "          {id: \"RunControl\", name:\"Run Control\"}\n",
    "        );\n",
    "    },\n",
    "\n",
    "    createFloatingPanel: function (component){\n",
    "        var containerId = component.props.id + \"_container\";\n",
    "        var containerName = component.props.name;\n",
    "\n",
    "        //create the dialog window for the widget\n",
    "        var dialog = $jParent(\"<div id=\" + containerId + \" class='dialog' title='\" + containerName + \"'></div>\").dialog(\n",
    "        {\n",
    "            resizable: true,\n",
    "            draggable: true,\n",
    "            top: 10,\n",
    "            height: 300,\n",
    "            width: 350,\n",
    "            close: function (event, ui) {\n",
    "                if (event.originalEvent &&\n",
    "                $jParent(event.originalEvent.target).closest(\".ui-dialog-titlebar-close\").length) {\n",
    "                    $jParent(\"#\" + this.id).remove();\n",
    "                }\n",
    "            },\n",
    "            appendTo: \"\"\n",
    "        });\n",
    "\n",
    "        this.$el = $jParent(\"#\" + this.id);\n",
    "\n",
    "        var dialogParent = dialog.parent();\n",
    "        var that = this;\n",
    "\n",
    "        //add history\n",
    "        dialogParent.find(\"div.ui-dialog-titlebar\").prepend(\"<div class='fa fa-history historyIcon'></div>\");\n",
    "        dialogParent.find(\"div.historyIcon\").click(function (event) {\n",
    "            that.showHistoryMenu(event);\n",
    "            event.stopPropagation();\n",
    "        });\n",
    "\n",
    "        //remove the jQuery UI icon\n",
    "        dialogParent.find(\"button.ui-dialog-titlebar-close\").html(\"\");\n",
    "        dialogParent.find(\"button\").append(\"<i class='fa fa-close'></i>\");\n",
    "        //Take focus away from close button\n",
    "        dialogParent.find(\"button.ui-dialog-titlebar-close\").blur();\t\n",
    "\n",
    "        return dialog.get(0);\n",
    "    },\n",
    "    \n",
    "    // Render the view.\n",
    "    render: function() {\n",
    "        \n",
    "        \n",
    "        var comp = React.createFactory(PanelComp)({id: \"RunControl\", name:\"Run Control\"});\n",
    "        var floatingPanel = this.createFloatingPanel(comp)\n",
    "        ReactDOM.render(comp, this.el)\n",
    "        \n",
    "    }\n",
    "});\n",
    "\n",
    "    return {\n",
    "        PanelView: PanelView\n",
    "    };\n",
    "});"
   ]
  },
  {
   "cell_type": "code",
   "execution_count": 72,
   "metadata": {
    "collapsed": true
   },
   "outputs": [],
   "source": [
    "import ipywidgets as widgets\n",
    "from traitlets import Unicode\n",
    "\n",
    "\n",
    "class PanelWidget(widgets.DOMWidget):\n",
    "    _view_name = Unicode('PanelView').tag(sync=True)\n",
    "    _view_module = Unicode('panel').tag(sync=True)\n",
    "    \n",
    "    "
   ]
  },
  {
   "cell_type": "code",
   "execution_count": 73,
   "metadata": {
    "collapsed": true
   },
   "outputs": [],
   "source": [
    "p = PanelWidget()"
   ]
  },
  {
   "cell_type": "code",
   "execution_count": 74,
   "metadata": {
    "collapsed": true
   },
   "outputs": [],
   "source": [
    "p"
   ]
  },
  {
   "cell_type": "code",
   "execution_count": null,
   "metadata": {
    "collapsed": true
   },
   "outputs": [],
   "source": []
  }
 ],
 "metadata": {
  "kernelspec": {
   "display_name": "Python 3",
   "language": "python",
   "name": "python3"
  },
  "language_info": {
   "codemirror_mode": {
    "name": "ipython",
    "version": 3
   },
   "file_extension": ".py",
   "mimetype": "text/x-python",
   "name": "python",
   "nbconvert_exporter": "python",
   "pygments_lexer": "ipython3",
   "version": "3.4.3"
  },
  "widgets": {
   "state": {
    "0a4dcee78f3348b9ba4ae30342f32269": {
     "views": []
    },
    "10191b69ac5a4462be326934bb495c28": {
     "views": []
    },
    "195cb97acc164e089df9a6032314f0d3": {
     "views": []
    },
    "1c0660faf5e84d608140d5efdb1fada1": {
     "views": []
    },
    "21fd2425f98d4cde8260c3cc002e0c95": {
     "views": []
    },
    "27d3c9b6e8884a778021314ccd331943": {
     "views": []
    },
    "28f20ab0ed104303a512e0d9dc862f02": {
     "views": []
    },
    "34f4e1556a8541d29aea5ce892fd48fe": {
     "views": []
    },
    "37ea1fe07fc046a6932fbd2ada21a216": {
     "views": []
    },
    "458e8550cbda492095ca679bb59be958": {
     "views": []
    },
    "4c4d489508314409a36a895be6a9e355": {
     "views": []
    },
    "4febb303a39c4cf0921dac7d218d50b0": {
     "views": []
    },
    "6021d8630fe949da93c2e955cf22613b": {
     "views": []
    },
    "6ae90a24fdae46d9b5d9cf17438e4062": {
     "views": []
    },
    "6b8f6f081c494814bc8c15806b2246fb": {
     "views": []
    },
    "6cf79c55856c4204bbd2bf90196b05d2": {
     "views": []
    },
    "6cff2f55732847669bc65981e28b3e2b": {
     "views": []
    },
    "70a85f60561c4b3e9d1f7b32bd87c603": {
     "views": []
    },
    "76428c0b685646c5b5a2c28397d61d8b": {
     "views": []
    },
    "798e97f5bbc0495399a8cc419ed5f2c7": {
     "views": []
    },
    "989dced6dc7944368136b9038c283a66": {
     "views": []
    },
    "9bb76a42e94c4b3b96489436ab874403": {
     "views": []
    },
    "9f5bdb41dd504638beb0e4f8217b8f38": {
     "views": []
    },
    "b17aa4ded49e4f2f87eb4a8636bca84f": {
     "views": []
    },
    "b2c99bbc149c403f9a8b6141e244d186": {
     "views": []
    },
    "b93b0f2a6b7c4d589e0647dc4c873cd1": {
     "views": []
    },
    "bb8ff2482b6341f7bab2443f4eb1aea5": {
     "views": []
    },
    "d5e75504246f402a8b6c5b3d8af864e4": {
     "views": []
    },
    "dfbfe095bb9442b79ee755635367b3fd": {
     "views": []
    },
    "e606e2c559184275ad65bfff4b4be9cf": {
     "views": []
    },
    "f2531f54b85b4e659121b38caf813c9c": {
     "views": []
    },
    "f2918af465964b008efb65a683bf1d1a": {
     "views": []
    },
    "f2aea02996e249e78b969c7df6516ea4": {
     "views": []
    },
    "faa67023d3af40b78f628c1b14511e75": {
     "views": []
    }
   },
   "version": "1.1.2"
  }
 },
 "nbformat": 4,
 "nbformat_minor": 0
}
