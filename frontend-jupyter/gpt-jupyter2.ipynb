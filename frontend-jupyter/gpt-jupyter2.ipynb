{
 "cells": [
  {
   "cell_type": "code",
   "execution_count": 294,
   "metadata": {
    "collapsed": false
   },
   "outputs": [
    {
     "data": {
      "application/javascript": [
       "document.domain='gpt.org'\n",
       "require.undef('panel');\n",
       "\n",
       "\n",
       "\n",
       "define([\"jupyter-js-widgets\"], function(widgets) {\n",
       "var PanelModel = widgets.WidgetModel.extend({\n",
       "    defaults: _.extend({}, widgets.WidgetModel.prototype.defaults, {\n",
       "        _model_name: \"PanelModel\",\n",
       "        _view_name: \"PanelView\",\n",
       "        _model_module: \"panel\",\n",
       "        _view_module: \"panel\",\n",
       "\n",
       "        kk: undefined,\n",
       "        value: 'taka',\n",
       "        items: [],\n",
       "    }),\n",
       "\n",
       "    initialize: function() {\n",
       "        PanelModel.__super__.initialize.apply(this);\n",
       "//            this.on(\"change:side\", this.validate_orientation, this);\n",
       "//            this.on(\"change:orientation\", this.validate_side, this);\n",
       "//            this.validate_orientation();\n",
       "//            this.validate_side();\n",
       "    },\n",
       "}, {\n",
       "    serializers: _.extend({\n",
       "        kk: { deserialize: widgets.unpack_models },\n",
       "    }, widgets.WidgetModel.serializers)\n",
       "});\n",
       "    \n",
       "})\n",
       "\n",
       "\n",
       "define('panel', [\"jupyter-js-widgets\"], function(widgets) {    \n",
       "    \n",
       "var geppettoJupyterWidgets = window.parent.require('components/GeppettoJupyterWidgets')  \n",
       "    \n",
       "    return {\n",
       "        PanelView: geppettoJupyterWidgets.PanelView\n",
       "    };\n",
       "});\n",
       "define('raisedButton', [\"jupyter-js-widgets\"], function(widgets) {\n",
       "\n",
       "   \n",
       "var geppettoJupyterWidgets = window.parent.require('components/GeppettoJupyterWidgets')  \n",
       "    \n",
       "    return {\n",
       "        RaisedButtonView: geppettoJupyterWidgets.RaisedButtonView\n",
       "    };\n",
       "});"
      ],
      "text/plain": [
       "<IPython.core.display.Javascript object>"
      ]
     },
     "metadata": {},
     "output_type": "display_data"
    }
   ],
   "source": [
    "%%javascript\n",
    "document.domain='gpt.org'\n",
    "require.undef('panel');\n",
    "\n",
    "\n",
    "\n",
    "define([\"jupyter-js-widgets\"], function(widgets) {\n",
    "var PanelModel = widgets.WidgetModel.extend({\n",
    "    defaults: _.extend({}, widgets.WidgetModel.prototype.defaults, {\n",
    "        _model_name: \"PanelModel\",\n",
    "        _view_name: \"PanelView\",\n",
    "        _model_module: \"panel\",\n",
    "        _view_module: \"panel\",\n",
    "\n",
    "        kk: undefined,\n",
    "        value: 'taka',\n",
    "        items: [],\n",
    "    }),\n",
    "\n",
    "    initialize: function() {\n",
    "        PanelModel.__super__.initialize.apply(this);\n",
    "//            this.on(\"change:side\", this.validate_orientation, this);\n",
    "//            this.on(\"change:orientation\", this.validate_side, this);\n",
    "//            this.validate_orientation();\n",
    "//            this.validate_side();\n",
    "    },\n",
    "}, {\n",
    "    serializers: _.extend({\n",
    "        kk: { deserialize: widgets.unpack_models },\n",
    "    }, widgets.WidgetModel.serializers)\n",
    "});\n",
    "    \n",
    "})\n",
    "\n",
    "\n",
    "define('panel', [\"jupyter-js-widgets\"], function(widgets) {    \n",
    "    \n",
    "var geppettoJupyterWidgets = window.parent.require('components/GeppettoJupyterWidgets')  \n",
    "    \n",
    "    return {\n",
    "        PanelView: geppettoJupyterWidgets.PanelView\n",
    "    };\n",
    "});\n",
    "define('raisedButton', [\"jupyter-js-widgets\"], function(widgets) {\n",
    "\n",
    "   \n",
    "var geppettoJupyterWidgets = window.parent.require('components/GeppettoJupyterWidgets')  \n",
    "    \n",
    "    return {\n",
    "        RaisedButtonView: geppettoJupyterWidgets.RaisedButtonView\n",
    "    };\n",
    "});"
   ]
  },
  {
   "cell_type": "code",
   "execution_count": 295,
   "metadata": {
    "collapsed": false
   },
   "outputs": [],
   "source": [
    "import ipywidgets as widgets\n",
    "from traitlets import (Unicode, Instance, List)\n",
    "\n",
    "class RaisedButtonWidget(widgets.Widget):\n",
    "    _view_name = Unicode('RaisedButtonView').tag(sync=True)\n",
    "    _view_module = Unicode('raisedButton').tag(sync=True)\n",
    "    \n",
    "    value = Unicode('Hello World2!').tag(sync=True)\n",
    "\n",
    "class PanelWidget(widgets.DOMWidget):\n",
    "    _view_name = Unicode('PanelView').tag(sync=True)\n",
    "    _model_name = Unicode('PanelModel').tag(sync=True)\n",
    "    \n",
    "    _view_module = Unicode('panel').tag(sync=True)\n",
    "        \n",
    "    kk = Instance(RaisedButtonWidget).tag(sync=True, **widgets.widget_serialization)\n",
    "    value = Unicode('Hello World!').tag(sync=True)\n",
    "    \n",
    "    def addChild(self, child):\n",
    "        self.items.append(child)\n",
    "        print(self.items)\n",
    "        print(\"taka\")\n",
    "    \n",
    "    \n",
    "\n",
    "    "
   ]
  },
  {
   "cell_type": "code",
   "execution_count": null,
   "metadata": {
    "collapsed": false
   },
   "outputs": [],
   "source": [
    "r= RaisedButtonWidget()\n",
    "p = PanelWidget(kk=r)\n"
   ]
  },
  {
   "cell_type": "code",
   "execution_count": null,
   "metadata": {
    "collapsed": false
   },
   "outputs": [],
   "source": [
    "p.kk\n",
    "p"
   ]
  },
  {
   "cell_type": "code",
   "execution_count": 229,
   "metadata": {
    "collapsed": false
   },
   "outputs": [
    {
     "name": "stdout",
     "output_type": "stream",
     "text": [
      "[<__main__.RaisedButtonWidget object at 0x7f3ab8287400>]\n",
      "taka\n"
     ]
    },
    {
     "data": {
      "text/plain": [
       "[<__main__.RaisedButtonWidget at 0x7f3ab8287400>]"
      ]
     },
     "execution_count": 229,
     "metadata": {},
     "output_type": "execute_result"
    }
   ],
   "source": [
    "p.addChild(r)\n",
    "p.items"
   ]
  },
  {
   "cell_type": "code",
   "execution_count": 231,
   "metadata": {
    "collapsed": true
   },
   "outputs": [],
   "source": [
    "p"
   ]
  },
  {
   "cell_type": "code",
   "execution_count": 197,
   "metadata": {
    "collapsed": true
   },
   "outputs": [],
   "source": [
    "p.value = 'kk'"
   ]
  },
  {
   "cell_type": "code",
   "execution_count": 199,
   "metadata": {
    "collapsed": true
   },
   "outputs": [],
   "source": [
    "p.items.append('lk')"
   ]
  },
  {
   "cell_type": "code",
   "execution_count": 200,
   "metadata": {
    "collapsed": false
   },
   "outputs": [
    {
     "data": {
      "text/plain": [
       "[<__main__.RaisedButtonWidget at 0x7f3ab82634e0>,\n",
       " <__main__.RaisedButtonWidget at 0x7f3ab82634e0>,\n",
       " <__main__.RaisedButtonWidget at 0x7f3ab82634e0>,\n",
       " 'lk',\n",
       " 'lk']"
      ]
     },
     "execution_count": 200,
     "metadata": {},
     "output_type": "execute_result"
    }
   ],
   "source": [
    "p.items"
   ]
  },
  {
   "cell_type": "code",
   "execution_count": null,
   "metadata": {
    "collapsed": true
   },
   "outputs": [],
   "source": []
  }
 ],
 "metadata": {
  "kernelspec": {
   "display_name": "Python 3",
   "language": "python",
   "name": "python3"
  },
  "language_info": {
   "codemirror_mode": {
    "name": "ipython",
    "version": 3
   },
   "file_extension": ".py",
   "mimetype": "text/x-python",
   "name": "python",
   "nbconvert_exporter": "python",
   "pygments_lexer": "ipython3",
   "version": "3.4.3"
  },
  "widgets": {
   "state": {
    "0013dd2de93c40609420065d9cb8fe06": {
     "views": []
    },
    "03f53c1b65f049f5a98c8231a7fc5509": {
     "views": []
    },
    "061f8d4cad534c7f81b89166a1debe76": {
     "views": []
    },
    "0a4dcee78f3348b9ba4ae30342f32269": {
     "views": []
    },
    "0a89f68182e24ef1b3fa843108bdefee": {
     "views": []
    },
    "0b9c87fb0c064f09bce42d0a62595e99": {
     "views": []
    },
    "0bf6e45bebc8426ca7fd13e2b9fc1dde": {
     "views": []
    },
    "0db77fbce1a04bb3aaae0c54b7c7b197": {
     "views": []
    },
    "0e82c6e32ebf4d2c8e04e22e91f819d4": {
     "views": []
    },
    "0eb4055e6ae141e8bebb3d56596bec19": {
     "views": []
    },
    "10191b69ac5a4462be326934bb495c28": {
     "views": []
    },
    "102900ddf47c487b87587c1d575f3db0": {
     "views": []
    },
    "1056dba0874a48f08ecf23cbe4f2d57b": {
     "views": []
    },
    "143a34659fc9413699457973026e460e": {
     "views": []
    },
    "145409dd90f64494a697e4aac73b384b": {
     "views": []
    },
    "169b434497d940dc9b2a208c6701eace": {
     "views": []
    },
    "195cb97acc164e089df9a6032314f0d3": {
     "views": []
    },
    "1c0660faf5e84d608140d5efdb1fada1": {
     "views": []
    },
    "1d16a8018a06400ab94879bfd839fd7a": {
     "views": []
    },
    "1e7965e5112e4b75b3445a2539d546e8": {
     "views": []
    },
    "1ec167084fc0441282d9f15b9bef4355": {
     "views": []
    },
    "1f06201ec6fd41a680f92e16c75c2c63": {
     "views": []
    },
    "1f155dee8a5849ddbe2fa74abd76e69e": {
     "views": []
    },
    "20490136da9e40fbae2ada8abf8582c4": {
     "views": []
    },
    "21fd2425f98d4cde8260c3cc002e0c95": {
     "views": []
    },
    "2254cd1d3ee8491688d232eee0469b0e": {
     "views": []
    },
    "25c5dcd3366c4244959b94bd39ea4233": {
     "views": []
    },
    "269300ce6bec4b4f85b444315c77133b": {
     "views": []
    },
    "269f2bfdc5934cc798b50901fe21cfb5": {
     "views": []
    },
    "27d214e103e549cf9cdff6c61dbbef1f": {
     "views": []
    },
    "27d3c9b6e8884a778021314ccd331943": {
     "views": []
    },
    "2885eb1abe11411ca1240fff1ea06a11": {
     "views": []
    },
    "28c1ad5cedab41348f779736d8ea4407": {
     "views": []
    },
    "28f20ab0ed104303a512e0d9dc862f02": {
     "views": []
    },
    "2acdebe391fe4d2d97f52eb3232534c4": {
     "views": []
    },
    "2b0ae826cd2f4abd822d2329a33a6d9e": {
     "views": []
    },
    "2b686fabf60c4e25ab8fa864cad0f0eb": {
     "views": []
    },
    "2e3eaff561ea452ca9d32b8cc01c1a46": {
     "views": []
    },
    "34f4e1556a8541d29aea5ce892fd48fe": {
     "views": []
    },
    "35c5a8c8f27341bc8fca514de0382ca8": {
     "views": []
    },
    "35d740c22a9049109054ac11f9b704ec": {
     "views": []
    },
    "37c21552cb0045c791fabf59c9e34038": {
     "views": []
    },
    "37cd13df645942daa7a6d4743fbf6e48": {
     "views": []
    },
    "37ea1fe07fc046a6932fbd2ada21a216": {
     "views": []
    },
    "3a162b9addfd49e3ac5e5020c353a0b2": {
     "views": []
    },
    "3b3b67d8eeae465b97f886da24fdb3d7": {
     "views": []
    },
    "3b8fb59d48a245b4b0dddeba188716c5": {
     "views": []
    },
    "3cc7cf66a06647608c29818f7ca645b7": {
     "views": []
    },
    "3f5052265c4443d6a96791caed8ee51d": {
     "views": []
    },
    "41f9a34805884aa6b17b3f0b6acc6533": {
     "views": []
    },
    "458e8550cbda492095ca679bb59be958": {
     "views": []
    },
    "47e957548bd34e1ebacf6081b7c2501f": {
     "views": []
    },
    "4c4d489508314409a36a895be6a9e355": {
     "views": []
    },
    "4d383aa4975b4a31885f231898f4ddc1": {
     "views": []
    },
    "4ea72500c2864075977ebe3e69f22be2": {
     "views": []
    },
    "4febb303a39c4cf0921dac7d218d50b0": {
     "views": []
    },
    "502cb97802a44c79aeec95059689e262": {
     "views": []
    },
    "519e12562c894e97be15664acf88b725": {
     "views": []
    },
    "549098efcfbb4e29bd8a552d95e7f6a9": {
     "views": []
    },
    "54a61115769048ec9a7a54359ab22460": {
     "views": []
    },
    "554f576ec673496891f84256c1c0bfac": {
     "views": []
    },
    "55e7977f3b794063968b7d68dbf2e70b": {
     "views": []
    },
    "5949714ca2c842c6a25dfbfb46f93305": {
     "views": []
    },
    "5b23d3a44db9405eb1cf8f686289e737": {
     "views": []
    },
    "5ede29ec34c046f68712932b7d3860b9": {
     "views": []
    },
    "5fa55d12a6304280a263e2c2f1eb0bb2": {
     "views": []
    },
    "6021d8630fe949da93c2e955cf22613b": {
     "views": []
    },
    "619c688ae48948379502e803cb56ac0a": {
     "views": []
    },
    "61c897ee0e714550ae436d4877e0d589": {
     "views": []
    },
    "62b3bdb46e3941918cf5a02e60683817": {
     "views": []
    },
    "65e1460549254f8cb660ae2bb7673b7b": {
     "views": []
    },
    "670853eac84f4fae94f29fc625377f07": {
     "views": []
    },
    "67a1220ac0d84d15a739dc2da34b58e8": {
     "views": []
    },
    "691ab0021a274c46af85df6b59529985": {
     "views": []
    },
    "6ae90a24fdae46d9b5d9cf17438e4062": {
     "views": []
    },
    "6b7fcae5181448439e81dd0d54cfe5ee": {
     "views": []
    },
    "6b8f6f081c494814bc8c15806b2246fb": {
     "views": []
    },
    "6cc60c3a978c4734948a382d91dc4f60": {
     "views": []
    },
    "6cf79c55856c4204bbd2bf90196b05d2": {
     "views": []
    },
    "6cff2f55732847669bc65981e28b3e2b": {
     "views": []
    },
    "6d3e4d1941db4c788a1a84995541ea4b": {
     "views": []
    },
    "6de6b285822e40b1aff9d16c0739c92b": {
     "views": []
    },
    "70a85f60561c4b3e9d1f7b32bd87c603": {
     "views": []
    },
    "71dff74bc0fd458f856d52cc81894bae": {
     "views": []
    },
    "7379ee48ded74ffa987eaf9f17f66faf": {
     "views": []
    },
    "752f001429d84ffcb8fa19f9783e2fec": {
     "views": []
    },
    "76428c0b685646c5b5a2c28397d61d8b": {
     "views": []
    },
    "7699568ea3a54ce1853d79b8839072b1": {
     "views": []
    },
    "785c8d54e9584196bbfebb71f6a0611d": {
     "views": []
    },
    "794e526700dc4d1587f29a04074f8e09": {
     "views": []
    },
    "798e97f5bbc0495399a8cc419ed5f2c7": {
     "views": []
    },
    "7a98862d615a47cc8e1cee20758ec704": {
     "views": []
    },
    "7b3bdd87367746e3bea54d874d305f26": {
     "views": []
    },
    "822684ef30454193be5c668af879a467": {
     "views": []
    },
    "82a6b7cd48e3430b9d2ac6ca9489316f": {
     "views": []
    },
    "838ab371f7b148889c7047d34301785e": {
     "views": []
    },
    "845acf125dab4bf5bbac99e9228f0f78": {
     "views": []
    },
    "853c6c58aa1c40348b91bf62bf9fe077": {
     "views": []
    },
    "883b07450c414631901e8fa9f3729daa": {
     "views": []
    },
    "8916f28706b94c5899d364edcccb83fa": {
     "views": []
    },
    "8945b83fcb0d4560aa06bff8447ceaf5": {
     "views": []
    },
    "8b43ace16c9f478d90b76815b2e44cd4": {
     "views": []
    },
    "8d8e2542cf054f849f946190b33627b5": {
     "views": []
    },
    "8e98623da6d545189e26028eeaaadcb2": {
     "views": []
    },
    "8ffed453b071417f917f6fad21e7e767": {
     "views": []
    },
    "911983c1e93b4eba879b05caac632eaa": {
     "views": []
    },
    "92644dc8fce649009c956cd0fdd15494": {
     "views": []
    },
    "94884d33e36c4e368ec7b16c3a75322d": {
     "views": []
    },
    "95f580e0828a49d8be6fb7ab7d47cb2e": {
     "views": []
    },
    "969b2ff14e2a43c9911d1c4784fb458f": {
     "views": []
    },
    "98141a5805b145ffa06a3d6f11dca24f": {
     "views": []
    },
    "98257a14be5c47608b21f692727885e2": {
     "views": []
    },
    "9880b1321256491594a83b800490955a": {
     "views": []
    },
    "989dced6dc7944368136b9038c283a66": {
     "views": []
    },
    "9a5d8cdc71df4da7810e0c47e8a4d660": {
     "views": []
    },
    "9a73eede6c814eae9e6c4eb314ca3f50": {
     "views": []
    },
    "9acaa78d697640a3afa75652852636a4": {
     "views": []
    },
    "9bb76a42e94c4b3b96489436ab874403": {
     "views": []
    },
    "9dd05591d0354591a7628a2b7c153c5b": {
     "views": []
    },
    "9f5bdb41dd504638beb0e4f8217b8f38": {
     "views": []
    },
    "9fcb5cc862514e98bca406d1256046fa": {
     "views": []
    },
    "a04822727014414bac0468339786bf87": {
     "views": []
    },
    "a3d123e1c9e34f60a32d8ddcb77cf2c3": {
     "views": []
    },
    "a418b09d896a4919aef73ab53860a475": {
     "views": []
    },
    "aa0700dad908452ead2504bf32da5be4": {
     "views": []
    },
    "aa9054290a884dfbb8826d43e7a829b9": {
     "views": []
    },
    "ad436bc945514e54a1f80d9809c29360": {
     "views": []
    },
    "b05b06f56ad348f294c6fc1508624ebd": {
     "views": []
    },
    "b075599587ad45aab660d846e3e45d5b": {
     "views": []
    },
    "b17aa4ded49e4f2f87eb4a8636bca84f": {
     "views": []
    },
    "b2522b03a6b44fdeafad94e2615657c3": {
     "views": []
    },
    "b2c99bbc149c403f9a8b6141e244d186": {
     "views": []
    },
    "b4aafbc0048d4f43ab9e730d6bf9f1db": {
     "views": []
    },
    "b5745e45438c4b3ab87cacc0b12d1126": {
     "views": []
    },
    "b6746b08ed0845e2803d8458b9945159": {
     "views": []
    },
    "b73e22adcc4f4e4f862212ca44ef6bc9": {
     "views": []
    },
    "b7bc839c486747f7b5af07ec956cda90": {
     "views": []
    },
    "b93b0f2a6b7c4d589e0647dc4c873cd1": {
     "views": []
    },
    "bb8ff2482b6341f7bab2443f4eb1aea5": {
     "views": []
    },
    "bce89af268714a029bfe63a55e2f4556": {
     "views": []
    },
    "c3bb2e7027d540a6bd7b6d19b775c59f": {
     "views": []
    },
    "c4b35baa903f4484bef679de7ab3449a": {
     "views": []
    },
    "c625fadd173c4fca9563608bc4071022": {
     "views": []
    },
    "c8829fa517254e28ae200cefa79ab256": {
     "views": []
    },
    "cf7ddecfc9a248d4b3948de833bd5999": {
     "views": []
    },
    "d1f3e848a0ee42659f9de3a02bb63429": {
     "views": []
    },
    "d3a21ea91fd942c0857ff49f805c57a5": {
     "views": []
    },
    "d4c6f84f865b46d69b821b6a6dec257d": {
     "views": []
    },
    "d4d167e3d9624c82a3f42c73cf4c64a8": {
     "views": []
    },
    "d54d3da9510643d29a7f5d835b0a4487": {
     "views": []
    },
    "d5e75504246f402a8b6c5b3d8af864e4": {
     "views": []
    },
    "d742ccdeb71f477e88ebe14bfc242e0e": {
     "views": []
    },
    "d89cff82a9154bf7bf48331fbc760257": {
     "views": []
    },
    "db69f9a51bae4b4a8d8e8bd7f98c0223": {
     "views": []
    },
    "dd841656f76a478c84e5e089dfd90a15": {
     "views": []
    },
    "dd9ad47a5601429dad5067d608f5a4f7": {
     "views": []
    },
    "dde46c5ecb2a4871852b19daf76f699c": {
     "views": []
    },
    "df00512db1ac448ca66b5149ec061acf": {
     "views": []
    },
    "dfbfe095bb9442b79ee755635367b3fd": {
     "views": []
    },
    "e062346a05df449d90323409cfcf07e5": {
     "views": []
    },
    "e2780d3870824f99a363d4f8c4cb7c19": {
     "views": []
    },
    "e36e71a1b1364db480250bc02b1cbd79": {
     "views": []
    },
    "e43c187ccacf4f3293d88a71498e3bb4": {
     "views": []
    },
    "e606e2c559184275ad65bfff4b4be9cf": {
     "views": []
    },
    "e784a9dcfd7d4527b6a55c9f63a5dfb4": {
     "views": []
    },
    "e89517318a714f90965a4cd870ef039f": {
     "views": []
    },
    "e9151a28843f48b18ea43e4b10ec5e2d": {
     "views": []
    },
    "ea482559102b4a708c23ecea8e6d1ae5": {
     "views": []
    },
    "ea86fe17d0a94bb6a9c1d7e976d3125f": {
     "views": []
    },
    "ec6ba6c3cc9d42a7ad5050fa10884043": {
     "views": []
    },
    "efc356b782b54f9f80a2a17ed17dd057": {
     "views": []
    },
    "f0db4892ed614514a1ce4be6d11eb3f1": {
     "views": []
    },
    "f2531f54b85b4e659121b38caf813c9c": {
     "views": []
    },
    "f2918af465964b008efb65a683bf1d1a": {
     "views": []
    },
    "f2aea02996e249e78b969c7df6516ea4": {
     "views": []
    },
    "f3ca7f25c4b84f46b94e448f7ab52ae8": {
     "views": []
    },
    "f44c4e4cad0145c287233b87e5324be3": {
     "views": []
    },
    "f7f6e7003ca0423d993be2ca53406d0b": {
     "views": []
    },
    "f851e836ccf5445fb28357cc02463a2b": {
     "views": []
    },
    "f96ee6a762564d26a5230886f70a0292": {
     "views": []
    },
    "faa67023d3af40b78f628c1b14511e75": {
     "views": []
    },
    "fac2f600b1cf4bfdbb2bf75602af8af5": {
     "views": []
    },
    "fb472d94cd084e489f1a4447e151e5ab": {
     "views": []
    },
    "fc4cbbef3d464d15b0d65bf9411ad749": {
     "views": []
    },
    "fd9c1f51a7c14abc91f1f53da0dcdda5": {
     "views": []
    },
    "ffec8874c03c43f486121ac59c618813": {
     "views": []
    }
   },
   "version": "1.1.2"
  }
 },
 "nbformat": 4,
 "nbformat_minor": 0
}
