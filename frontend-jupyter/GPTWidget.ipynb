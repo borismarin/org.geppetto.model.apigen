{
 "cells": [
  {
   "cell_type": "code",
   "execution_count": 17,
   "metadata": {
    "collapsed": false
   },
   "outputs": [
    {
     "data": {
      "application/javascript": [
       "document.domain='gpt.org'"
      ],
      "text/plain": [
       "<IPython.core.display.Javascript object>"
      ]
     },
     "metadata": {},
     "output_type": "display_data"
    }
   ],
   "source": [
    "%%javascript\n",
    "document.domain='gpt.org'"
   ]
  },
  {
   "cell_type": "code",
   "execution_count": 18,
   "metadata": {
    "collapsed": true
   },
   "outputs": [],
   "source": [
    "import ipywidgets as widgets\n",
    "from traitlets import Unicode\n",
    "class HelloWidget(widgets.DOMWidget):\n",
    "    _view_name = Unicode('PyVarVis2').tag(sync=True)\n",
    "    _view_module = Unicode('hello').tag(sync=True)\n",
    "    value = Unicode('Hello World!').tag(sync=True)"
   ]
  },
  {
   "cell_type": "code",
   "execution_count": 19,
   "metadata": {
    "collapsed": false
   },
   "outputs": [
    {
     "data": {
      "application/javascript": [
       "define('hello', function() {\n",
       "\n",
       "   var PyVarVis2 =  window.parent.require('widgets/pyvariablevisualiser/PyVariableVisualiser')\n",
       "\n",
       "    return {\n",
       "        PyVarVis2 : PyVarVis2\n",
       "    };\n",
       "});"
      ],
      "text/plain": [
       "<IPython.core.display.Javascript object>"
      ]
     },
     "metadata": {},
     "output_type": "display_data"
    }
   ],
   "source": [
    "%%javascript\n",
    "define('hello', function() {\n",
    "\n",
    "   var PyVarVis2 =  window.parent.require('widgets/pyvariablevisualiser/PyVariableVisualiser')\n",
    "\n",
    "    return {\n",
    "        PyVarVis2 : PyVarVis2\n",
    "    };\n",
    "});"
   ]
  },
  {
   "cell_type": "code",
   "execution_count": 20,
   "metadata": {
    "collapsed": true
   },
   "outputs": [],
   "source": [
    "w = HelloWidget()\n",
    "\n"
   ]
  },
  {
   "cell_type": "code",
   "execution_count": null,
   "metadata": {
    "collapsed": true
   },
   "outputs": [],
   "source": [
    "w"
   ]
  }
 ],
 "metadata": {
  "kernelspec": {
   "display_name": "Python 3",
   "language": "python",
   "name": "python3"
  },
  "language_info": {
   "codemirror_mode": {
    "name": "ipython",
    "version": 3
   },
   "file_extension": ".py",
   "mimetype": "text/x-python",
   "name": "python",
   "nbconvert_exporter": "python",
   "pygments_lexer": "ipython3",
   "version": "3.4.3"
  },
  "widgets": {
   "state": {
    "19186b197bbf4ee8a27b7b77ab5a66ad": {
     "views": []
    },
    "3de5555ad0c3410d9b64e60b857fe213": {
     "views": []
    },
    "5fbe4a4d393b4e9789d03859c891b73a": {
     "views": []
    },
    "6d4421f13048455e9ea817709c39b614": {
     "views": []
    },
    "7469d56def2644e7b8acd8c39a1203f2": {
     "views": []
    },
    "9993efa00c8043628c8e85ebe99e0f7e": {
     "views": []
    },
    "9a5dd5436aed4aa9be157545ae14406a": {
     "views": []
    },
    "a6022feabd0f476caf8c8a62095483e4": {
     "views": []
    },
    "a604c703806e4d148f013ab6bea6d04c": {
     "views": []
    },
    "def7da23d10c43a3b6c26a638cd7d21f": {
     "views": []
    },
    "ebe9624f47ae490aadc1e8031fb5162c": {
     "views": []
    },
    "fb7c405ee2c84323895cfdd48c3355f6": {
     "views": []
    }
   },
   "version": "1.1.2"
  }
 },
 "nbformat": 4,
 "nbformat_minor": 0
}
