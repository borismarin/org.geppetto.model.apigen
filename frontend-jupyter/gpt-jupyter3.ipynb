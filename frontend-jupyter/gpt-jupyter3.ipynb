{
 "cells": [
  {
   "cell_type": "code",
   "execution_count": 1,
   "metadata": {
    "collapsed": false
   },
   "outputs": [
    {
     "data": {
      "application/javascript": [
       "document.domain='gpt.org'\n",
       "require.undef('panel');\n",
       "\n",
       "define('panel', [\"jupyter-js-widgets\"], function(widgets) {    \n",
       "    \n",
       "var geppettoJupyterWidgets = window.parent.require('components/GeppettoJupyterWidgets')  \n",
       "\n",
       "    return {\n",
       "        PanelView: geppettoJupyterWidgets.PanelView,\n",
       "        PanelModel: geppettoJupyterWidgets.PanelModel,\n",
       "    };\n",
       "});\n",
       "define('raisedButton', [\"jupyter-js-widgets\"], function(widgets) {\n",
       "\n",
       "   \n",
       "var geppettoJupyterWidgets = window.parent.require('components/GeppettoJupyterWidgets')  \n",
       "    \n",
       "    return {\n",
       "        RaisedButtonView: geppettoJupyterWidgets.RaisedButtonView\n",
       "    };\n",
       "});"
      ],
      "text/plain": [
       "<IPython.core.display.Javascript object>"
      ]
     },
     "metadata": {},
     "output_type": "display_data"
    }
   ],
   "source": [
    "%%javascript\n",
    "document.domain='gpt.org'\n",
    "require.undef('panel');\n",
    "\n",
    "define('panel', [\"jupyter-js-widgets\"], function(widgets) {    \n",
    "    \n",
    "var geppettoJupyterWidgets = window.parent.require('components/GeppettoJupyterWidgets')  \n",
    "\n",
    "    return {\n",
    "        PanelView: geppettoJupyterWidgets.PanelView,\n",
    "        PanelModel: geppettoJupyterWidgets.PanelModel,\n",
    "    };\n",
    "});\n",
    "define('raisedButton', [\"jupyter-js-widgets\"], function(widgets) {\n",
    "\n",
    "   \n",
    "var geppettoJupyterWidgets = window.parent.require('components/GeppettoJupyterWidgets')  \n",
    "    \n",
    "    return {\n",
    "        RaisedButtonView: geppettoJupyterWidgets.RaisedButtonView\n",
    "    };\n",
    "});\n"
   ]
  },
  {
   "cell_type": "code",
   "execution_count": 2,
   "metadata": {
    "collapsed": false
   },
   "outputs": [
    {
     "name": "stdout",
     "output_type": "stream",
     "text": [
      "kake\n"
     ]
    }
   ],
   "source": [
    "from GeppettoLibrary import *\n",
    "from IPython.display import display\n",
    "n= RaisedButtonWidget(widget_id='First')\n",
    "k= RaisedButtonWidget(widget_id='Second')\n",
    "def print_test(self):\n",
    "    print('kake')\n",
    "k.on_click(print_test)\n",
    "p = PanelWidget(items=[n])\n",
    "p.addChild(k)\n",
    "display(p)"
   ]
  },
  {
   "cell_type": "code",
   "execution_count": null,
   "metadata": {
    "collapsed": true
   },
   "outputs": [],
   "source": []
  },
  {
   "cell_type": "code",
   "execution_count": null,
   "metadata": {
    "collapsed": true
   },
   "outputs": [],
   "source": []
  }
 ],
 "metadata": {
  "kernelspec": {
   "display_name": "Python 3",
   "language": "python",
   "name": "python3"
  },
  "language_info": {
   "codemirror_mode": {
    "name": "ipython",
    "version": 3
   },
   "file_extension": ".py",
   "mimetype": "text/x-python",
   "name": "python",
   "nbconvert_exporter": "python",
   "pygments_lexer": "ipython3",
   "version": "3.4.3"
  },
  "widgets": {
   "state": {
    "62e11f21e00f4e26b649170b807a6273": {
     "views": []
    },
    "e6be3e551be84f67aa4090b46d85c5f2": {
     "views": []
    },
    "ecc7b92309444346844e935cf329f0cd": {
     "views": [
      {
       "cell_index": 1
      }
     ]
    }
   },
   "version": "1.1.2"
  }
 },
 "nbformat": 4,
 "nbformat_minor": 0
}
