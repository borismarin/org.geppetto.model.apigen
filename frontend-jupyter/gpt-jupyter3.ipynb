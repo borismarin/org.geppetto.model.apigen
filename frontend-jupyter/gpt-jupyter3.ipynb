{
 "cells": [
  {
   "cell_type": "code",
   "execution_count": 11,
   "metadata": {
    "collapsed": false
   },
   "outputs": [
    {
     "data": {
      "application/javascript": [
       "document.domain='gpt.org'\n",
       "require.undef('geppettoWidgets');\n",
       "\n",
       "define('geppettoWidgets', [\"jupyter-js-widgets\"], function(widgets) {    \n",
       "    \n",
       "var geppettoJupyterWidgets = window.parent.require('components/GeppettoJupyterWidgets')  \n",
       "\n",
       "    return {\n",
       "        PanelView: geppettoJupyterWidgets.PanelView,\n",
       "        PanelModel: geppettoJupyterWidgets.PanelModel,\n",
       "        ComponentView: geppettoJupyterWidgets.ComponentView\n",
       "    };\n",
       "});"
      ],
      "text/plain": [
       "<IPython.core.display.Javascript object>"
      ]
     },
     "metadata": {},
     "output_type": "display_data"
    }
   ],
   "source": [
    "%%javascript\n",
    "document.domain='gpt.org'\n",
    "require.undef('geppettoWidgets');\n",
    "\n",
    "define('geppettoWidgets', [\"jupyter-js-widgets\"], function(widgets) {    \n",
    "    \n",
    "var geppettoJupyterWidgets = window.parent.require('components/GeppettoJupyterWidgets')  \n",
    "\n",
    "    return {\n",
    "        PanelView: geppettoJupyterWidgets.PanelView,\n",
    "        PanelModel: geppettoJupyterWidgets.PanelModel,\n",
    "        ComponentView: geppettoJupyterWidgets.ComponentView\n",
    "    };\n",
    "});"
   ]
  },
  {
   "cell_type": "code",
   "execution_count": 14,
   "metadata": {
    "collapsed": false
   },
   "outputs": [
    {
     "name": "stdout",
     "output_type": "stream",
     "text": [
      "kake\n",
      "kake\n"
     ]
    }
   ],
   "source": [
    "from GeppettoLibrary import *\n",
    "from IPython.display import display\n",
    "n= RaisedButtonWidget(widget_id='First')\n",
    "k= RaisedButtonWidget(widget_id='Second')\n",
    "def print_test(self):\n",
    "    print('kake')\n",
    "k.on_click(print_test)\n",
    "p = PanelWidget(items=[n])\n",
    "p.addChild(k)\n",
    "display(p)"
   ]
  },
  {
   "cell_type": "code",
   "execution_count": 12,
   "metadata": {
    "collapsed": false
   },
   "outputs": [
    {
     "name": "stdout",
     "output_type": "stream",
     "text": [
      "The autoreload extension is already loaded. To reload it, use:\n",
      "  %reload_ext autoreload\n",
      "button clicked\n",
      "{'info': 'data sent'}\n"
     ]
    }
   ],
   "source": [
    "%load_ext autoreload\n",
    "%autoreload 2\n",
    "from GeppettoLibrary import *\n",
    "from IPython.display import display\n",
    "n= ComponentWidget(component_name='RAISEDBUTTON', widget_id='First')\n",
    "k= ComponentWidget(component_name='TEXTFIELD', widget_id='Second')\n",
    "def print_test(self, content):\n",
    "    print('button clicked')\n",
    "    print(content['data'])\n",
    "n.on_click(print_test)\n",
    "p = PanelWidget(items=[n])\n",
    "p.addChild(k)\n",
    "display(p)"
   ]
  },
  {
   "cell_type": "code",
   "execution_count": null,
   "metadata": {
    "collapsed": true
   },
   "outputs": [],
   "source": []
  }
 ],
 "metadata": {
  "kernelspec": {
   "display_name": "Python 3",
   "language": "python",
   "name": "python3"
  },
  "language_info": {
   "codemirror_mode": {
    "name": "ipython",
    "version": 3
   },
   "file_extension": ".py",
   "mimetype": "text/x-python",
   "name": "python",
   "nbconvert_exporter": "python",
   "pygments_lexer": "ipython3",
   "version": "3.4.3"
  },
  "widgets": {
   "state": {
    "72aad8a9637a4ee0bb8cfdb42b20c63e": {
     "views": []
    },
    "78541fa7a94544c298fb9dd4921afdd4": {
     "views": []
    },
    "a21569e58fc04b53b38701108b00157c": {
     "views": [
      {
       "cell_index": 2
      }
     ]
    }
   },
   "version": "1.1.2"
  }
 },
 "nbformat": 4,
 "nbformat_minor": 0
}
