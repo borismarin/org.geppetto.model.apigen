{
 "cells": [
  {
   "cell_type": "code",
   "execution_count": 42,
   "metadata": {
    "collapsed": false
   },
   "outputs": [
    {
     "data": {
      "application/javascript": [
       "document.domain='gpt.org'\n",
       "require.undef('panel');\n",
       "\n",
       "define('panel', [\"jupyter-js-widgets\"], function(widgets) {    \n",
       "    \n",
       "var geppettoJupyterWidgets = window.parent.require('components/GeppettoJupyterWidgets')  \n",
       "\n",
       "    return {\n",
       "        PanelView: geppettoJupyterWidgets.PanelView,\n",
       "        PanelModel: geppettoJupyterWidgets.PanelModel,\n",
       "    };\n",
       "});\n",
       "define('raisedButton', [\"jupyter-js-widgets\"], function(widgets) {\n",
       "\n",
       "   \n",
       "var geppettoJupyterWidgets = window.parent.require('components/GeppettoJupyterWidgets')  \n",
       "    \n",
       "    return {\n",
       "        RaisedButtonView: geppettoJupyterWidgets.RaisedButtonView\n",
       "    };\n",
       "});"
      ],
      "text/plain": [
       "<IPython.core.display.Javascript object>"
      ]
     },
     "metadata": {},
     "output_type": "display_data"
    }
   ],
   "source": [
    "%%javascript\n",
    "document.domain='gpt.org'\n",
    "require.undef('panel');\n",
    "\n",
    "define('panel', [\"jupyter-js-widgets\"], function(widgets) {    \n",
    "    \n",
    "var geppettoJupyterWidgets = window.parent.require('components/GeppettoJupyterWidgets')  \n",
    "\n",
    "    return {\n",
    "        PanelView: geppettoJupyterWidgets.PanelView,\n",
    "        PanelModel: geppettoJupyterWidgets.PanelModel,\n",
    "    };\n",
    "});\n",
    "define('raisedButton', [\"jupyter-js-widgets\"], function(widgets) {\n",
    "\n",
    "   \n",
    "var geppettoJupyterWidgets = window.parent.require('components/GeppettoJupyterWidgets')  \n",
    "    \n",
    "    return {\n",
    "        RaisedButtonView: geppettoJupyterWidgets.RaisedButtonView\n",
    "    };\n",
    "});"
   ]
  },
  {
   "cell_type": "code",
   "execution_count": 50,
   "metadata": {
    "collapsed": true
   },
   "outputs": [],
   "source": [
    "import ipywidgets as widgets\n",
    "from traitlets import (Unicode, Instance, List)\n",
    "\n",
    "class RaisedButtonWidget(widgets.Widget):\n",
    "    _view_name = Unicode('RaisedButtonView').tag(sync=True)\n",
    "    _view_module = Unicode('raisedButton').tag(sync=True)\n",
    "    \n",
    "    value = Unicode('Hello World2!').tag(sync=True)\n",
    "\n",
    "class PanelWidget(widgets.DOMWidget):\n",
    "    _view_name = Unicode('PanelView').tag(sync=True)\n",
    "    _view_module = Unicode('panel').tag(sync=True)\n",
    "    _model_name = Unicode('PanelModel').tag(sync=True)\n",
    "    _model_module = Unicode('panel').tag(sync=True)\n",
    "    \n",
    "    _view_module = Unicode('panel').tag(sync=True)\n",
    "        \n",
    "    items = List(Instance(RaisedButtonWidget)).tag(sync=True, **widgets.widget_serialization)    \n",
    "    kk = Instance(RaisedButtonWidget).tag(sync=True, **widgets.widget_serialization)\n",
    "    value = Unicode('Hello World!').tag(sync=True)\n",
    "    \n",
    "    def addChild(self, child):\n",
    "        self.items = [i for i in self.items] + [child]\n",
    "        print(self.items)\n",
    "        print(\"taka\")"
   ]
  },
  {
   "cell_type": "code",
   "execution_count": 51,
   "metadata": {
    "collapsed": false
   },
   "outputs": [
    {
     "name": "stdout",
     "output_type": "stream",
     "text": [
      "[<__main__.RaisedButtonWidget object at 0x7fc6489424e0>, <__main__.RaisedButtonWidget object at 0x7fc648942c18>]\n",
      "taka\n"
     ]
    }
   ],
   "source": [
    "r= RaisedButtonWidget()\n",
    "n= RaisedButtonWidget()\n",
    "k= RaisedButtonWidget()\n",
    "p = PanelWidget(kk=r, items=[n])\n",
    "p.addChild(k)"
   ]
  },
  {
   "cell_type": "code",
   "execution_count": 52,
   "metadata": {
    "collapsed": true
   },
   "outputs": [],
   "source": [
    "p"
   ]
  },
  {
   "cell_type": "code",
   "execution_count": null,
   "metadata": {
    "collapsed": true
   },
   "outputs": [],
   "source": []
  }
 ],
 "metadata": {
  "kernelspec": {
   "display_name": "Python 3",
   "language": "python",
   "name": "python3"
  },
  "language_info": {
   "codemirror_mode": {
    "name": "ipython",
    "version": 3
   },
   "file_extension": ".py",
   "mimetype": "text/x-python",
   "name": "python",
   "nbconvert_exporter": "python",
   "pygments_lexer": "ipython3",
   "version": "3.4.3"
  },
  "widgets": {
   "state": {
    "0ac532924d6b48d0a2a20bc7ec6eb01a": {
     "views": []
    },
    "0f37c2a22547431089706b112e9d9072": {
     "views": []
    },
    "0f556bf6d79e4f9a855c966e96e7f927": {
     "views": []
    },
    "1026174989e4449185068f971ddb00c7": {
     "views": []
    },
    "1283bca2aa0842b89ebf945587bd8b27": {
     "views": []
    },
    "15ef417942d24c64a3aa0a67803b879f": {
     "views": []
    },
    "1d2096a6f70b42808f087e1c12621600": {
     "views": []
    },
    "1f2b9ad16191483fba9fd84bce25db64": {
     "views": []
    },
    "24fdf6febc7d4c29a277080d9c274b4f": {
     "views": []
    },
    "2589c1127efd494582e0d197ddfa1958": {
     "views": []
    },
    "29fd394cbac246f3a2aabeb0ae1e9fc9": {
     "views": []
    },
    "3885868f3c474720852826f39a904ddc": {
     "views": []
    },
    "3d382be99b3546c4aa7cce35379d2d79": {
     "views": []
    },
    "3e71dace62904bd7bfb3be6fce2eceaa": {
     "views": []
    },
    "4517b6bd33014e658d4b009ad659abaf": {
     "views": []
    },
    "4ba80d11729e4da3889d9d4dd0fa95a2": {
     "views": []
    },
    "527def32592747868543546869c0b724": {
     "views": []
    },
    "53e56d3d25f443bebd357992069275d9": {
     "views": []
    },
    "547da434a3f34e6d94a39fab5e0796ce": {
     "views": []
    },
    "5aca6ead7189454a9ea252e9792329ce": {
     "views": []
    },
    "64df0db004154055b0f3f9c6781f1c07": {
     "views": []
    },
    "68e32c0729ab42caa86e74a7e8c1709b": {
     "views": []
    },
    "8261cde95c93480b8386b94f0cf5b26f": {
     "views": []
    },
    "890bc7651e264750a8a69b7effac6ada": {
     "views": []
    },
    "8e81f9afd5f9478396048b681ae1ff04": {
     "views": []
    },
    "8f53366f1ceb44568faa7c60cbb45ef4": {
     "views": []
    },
    "90bc65b3108e487ba967f4d05ce25f73": {
     "views": []
    },
    "90d9186dd1884e50ac30578ebe2d074f": {
     "views": []
    },
    "90e767e4a165423796834672dee6acc4": {
     "views": []
    },
    "918f5eed412f40169ab9646b711df199": {
     "views": []
    },
    "91cba864f38e469b81fcfff72c5195e3": {
     "views": []
    },
    "922c6c4aef5849e88dbe13e4223fe682": {
     "views": []
    },
    "a989ca0d33bd4497b1a1f71d82ea761a": {
     "views": []
    },
    "af41cb481d334d0696669f516dff2d54": {
     "views": []
    },
    "b8448ddf6e4342baa1aa51abb64470af": {
     "views": []
    },
    "ba20642781904e55be9d9c5cc5f8d0ee": {
     "views": []
    },
    "be5c3e2ffaa04b008c11e042ee5c0aa9": {
     "views": []
    },
    "bf0e688ae3ec46e9829cd72e48deadd8": {
     "views": []
    },
    "c0d43d0e33f04a85951e9b750b6bc27a": {
     "views": []
    },
    "c0dd9c9d7aba44b7a54371d5645dcae5": {
     "views": []
    },
    "c7cb5aa57318424f845e9c374af153b1": {
     "views": []
    },
    "ccac67985f864f81bbe837de21545e7d": {
     "views": []
    },
    "cd62f148910140d09e4fb88f704c9cfd": {
     "views": []
    },
    "d990305a0e744bbcab34f57277bf447d": {
     "views": []
    },
    "de05b8a825424d9fbf0661701bf5c5ba": {
     "views": []
    },
    "eae02c63327b48068fa867ba92cdcce4": {
     "views": []
    },
    "ebbf4bc480e94027a7cc851a8ec0a57a": {
     "views": []
    },
    "edc2ed7ef67245e8b2fc84a98695ca6b": {
     "views": []
    },
    "f07aa68352464da19b732f0248e43723": {
     "views": []
    },
    "f1027ecfc48c48cc92d385fc69211473": {
     "views": []
    },
    "f1f09a9afd2e40b08eb9bbc93112002b": {
     "views": []
    },
    "f2796e82679e43b88c2ffc6667367d0e": {
     "views": []
    },
    "f3467794c4ef4944a47e8740a12c945a": {
     "views": []
    },
    "f7e83c010f6c4213a57e95a100a9b977": {
     "views": []
    },
    "fd2fe22e924246788e4a2dad4ff148e3": {
     "views": []
    },
    "ffbef3b9e7b94b4c96d7d52633ffc96c": {
     "views": []
    }
   },
   "version": "1.1.2"
  }
 },
 "nbformat": 4,
 "nbformat_minor": 0
}
