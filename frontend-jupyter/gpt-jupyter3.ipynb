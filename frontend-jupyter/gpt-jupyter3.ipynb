{
 "cells": [
  {
   "cell_type": "code",
   "execution_count": 4,
   "metadata": {
    "collapsed": false
   },
   "outputs": [
    {
     "data": {
      "application/javascript": [
       "document.domain='gpt.org'\n",
       "require.undef('panel');\n",
       "\n",
       "define('panel', [\"jupyter-js-widgets\"], function(widgets) {    \n",
       "    \n",
       "var geppettoJupyterWidgets = window.parent.require('components/GeppettoJupyterWidgets')  \n",
       "\n",
       "    return {\n",
       "        PanelView: geppettoJupyterWidgets.PanelView,\n",
       "        PanelModel: geppettoJupyterWidgets.PanelModel,\n",
       "    };\n",
       "});\n",
       "define('raisedButton', [\"jupyter-js-widgets\"], function(widgets) {\n",
       "\n",
       "   \n",
       "var geppettoJupyterWidgets = window.parent.require('components/GeppettoJupyterWidgets')  \n",
       "    \n",
       "    return {\n",
       "        RaisedButtonView: geppettoJupyterWidgets.RaisedButtonView\n",
       "    };\n",
       "});"
      ],
      "text/plain": [
       "<IPython.core.display.Javascript object>"
      ]
     },
     "metadata": {},
     "output_type": "display_data"
    }
   ],
   "source": [
    "%%javascript\n",
    "document.domain='gpt.org'\n",
    "require.undef('panel');\n",
    "\n",
    "define('panel', [\"jupyter-js-widgets\"], function(widgets) {    \n",
    "    \n",
    "var geppettoJupyterWidgets = window.parent.require('components/GeppettoJupyterWidgets')  \n",
    "\n",
    "    return {\n",
    "        PanelView: geppettoJupyterWidgets.PanelView,\n",
    "        PanelModel: geppettoJupyterWidgets.PanelModel,\n",
    "    };\n",
    "});\n",
    "define('raisedButton', [\"jupyter-js-widgets\"], function(widgets) {\n",
    "\n",
    "   \n",
    "var geppettoJupyterWidgets = window.parent.require('components/GeppettoJupyterWidgets')  \n",
    "    \n",
    "    return {\n",
    "        RaisedButtonView: geppettoJupyterWidgets.RaisedButtonView\n",
    "    };\n",
    "});\n"
   ]
  },
  {
   "cell_type": "code",
   "execution_count": 5,
   "metadata": {
    "collapsed": false
   },
   "outputs": [
    {
     "name": "stdout",
     "output_type": "stream",
     "text": [
      "kake\n",
      "kake\n"
     ]
    }
   ],
   "source": [
    "from GeppettoLibrary import *\n",
    "from IPython.display import display\n",
    "n= RaisedButtonWidget(widget_id='First')\n",
    "k= RaisedButtonWidget(widget_id='Second')\n",
    "def print_test(self):\n",
    "    print('kake')\n",
    "k.on_click(print_test)\n",
    "p = PanelWidget(items=[n])\n",
    "p.addChild(k)\n",
    "display(p)"
   ]
  },
  {
   "cell_type": "code",
   "execution_count": null,
   "metadata": {
    "collapsed": true
   },
   "outputs": [],
   "source": []
  }
 ],
 "metadata": {
  "kernelspec": {
   "display_name": "Python 3",
   "language": "python",
   "name": "python3"
  },
  "language_info": {
   "codemirror_mode": {
    "name": "ipython",
    "version": 3
   },
   "file_extension": ".py",
   "mimetype": "text/x-python",
   "name": "python",
   "nbconvert_exporter": "python",
   "pygments_lexer": "ipython3",
   "version": "3.4.3"
  },
  "widgets": {
   "state": {
    "180619d3c7424d27ad9a8042030f5ed6": {
     "views": [
      {
       "cell_index": 1
      }
     ]
    },
    "211c7979ffe247a489e2b83f0b44f728": {
     "views": []
    },
    "4e5bffc4e0a44feb80ca29e542b5ccb9": {
     "views": []
    },
    "84c460ec3c3f4a80854201812b8d6e58": {
     "views": []
    },
    "93482561014c4ec7ae48a8b8492e4edf": {
     "views": []
    },
    "c94e5c6e1ff347648984d14f48f4d4b7": {
     "views": []
    }
   },
   "version": "1.1.2"
  }
 },
 "nbformat": 4,
 "nbformat_minor": 0
}
