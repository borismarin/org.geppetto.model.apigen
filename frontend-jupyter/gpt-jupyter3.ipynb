{
 "cells": [
  {
   "cell_type": "code",
   "execution_count": 201,
   "metadata": {
    "collapsed": false
   },
   "outputs": [
    {
     "data": {
      "application/javascript": [
       "document.domain='gpt.org'\n",
       "require.undef('panel');\n",
       "\n",
       "define('panel', [\"jupyter-js-widgets\"], function(widgets) {    \n",
       "    \n",
       "var geppettoJupyterWidgets = window.parent.require('components/GeppettoJupyterWidgets')  \n",
       "\n",
       "    return {\n",
       "        PanelView: geppettoJupyterWidgets.PanelView,\n",
       "        PanelModel: geppettoJupyterWidgets.PanelModel,\n",
       "    };\n",
       "});\n",
       "define('raisedButton', [\"jupyter-js-widgets\"], function(widgets) {\n",
       "\n",
       "   \n",
       "var geppettoJupyterWidgets = window.parent.require('components/GeppettoJupyterWidgets')  \n",
       "    \n",
       "    return {\n",
       "        RaisedButtonView: geppettoJupyterWidgets.RaisedButtonView\n",
       "    };\n",
       "});"
      ],
      "text/plain": [
       "<IPython.core.display.Javascript object>"
      ]
     },
     "metadata": {},
     "output_type": "display_data"
    }
   ],
   "source": [
    "%%javascript\n",
    "document.domain='gpt.org'\n",
    "require.undef('panel');\n",
    "\n",
    "define('panel', [\"jupyter-js-widgets\"], function(widgets) {    \n",
    "    \n",
    "var geppettoJupyterWidgets = window.parent.require('components/GeppettoJupyterWidgets')  \n",
    "\n",
    "    return {\n",
    "        PanelView: geppettoJupyterWidgets.PanelView,\n",
    "        PanelModel: geppettoJupyterWidgets.PanelModel,\n",
    "    };\n",
    "});\n",
    "define('raisedButton', [\"jupyter-js-widgets\"], function(widgets) {\n",
    "\n",
    "   \n",
    "var geppettoJupyterWidgets = window.parent.require('components/GeppettoJupyterWidgets')  \n",
    "    \n",
    "    return {\n",
    "        RaisedButtonView: geppettoJupyterWidgets.RaisedButtonView\n",
    "    };\n",
    "});"
   ]
  },
  {
   "cell_type": "code",
   "execution_count": 202,
   "metadata": {
    "collapsed": true
   },
   "outputs": [],
   "source": [
    "import ipywidgets as widgets\n",
    "from traitlets import (Unicode, Instance, List)\n",
    "\n",
    "class RaisedButtonWidget(widgets.Widget):\n",
    "    _view_name = Unicode('RaisedButtonView').tag(sync=True)\n",
    "    _view_module = Unicode('raisedButton').tag(sync=True)\n",
    "    \n",
    "    widget_id = Unicode('').tag(sync=True)\n",
    "\n",
    "class PanelWidget(widgets.DOMWidget):\n",
    "    _view_name = Unicode('PanelView').tag(sync=True)\n",
    "    _view_module = Unicode('panel').tag(sync=True)\n",
    "    _model_name = Unicode('PanelModel').tag(sync=True)\n",
    "    _model_module = Unicode('panel').tag(sync=True)\n",
    "        \n",
    "    items = List(Instance(RaisedButtonWidget)).tag(sync=True, **widgets.widget_serialization)    \n",
    "    \n",
    "    def addChild(self, child):\n",
    "        self.items = [i for i in self.items] + [child]\n"
   ]
  },
  {
   "cell_type": "code",
   "execution_count": 203,
   "metadata": {
    "collapsed": false
   },
   "outputs": [],
   "source": [
    "r= RaisedButtonWidget(widget_id='First')\n",
    "n= RaisedButtonWidget(widget_id='Second')\n",
    "k= RaisedButtonWidget(widget_id='Third')\n",
    "p = PanelWidget(items=[n])\n",
    "p.addChild(k)"
   ]
  },
  {
   "cell_type": "code",
   "execution_count": 204,
   "metadata": {
    "collapsed": true
   },
   "outputs": [],
   "source": [
    "p"
   ]
  },
  {
   "cell_type": "code",
   "execution_count": 148,
   "metadata": {
    "collapsed": true
   },
   "outputs": [],
   "source": [
    "r"
   ]
  },
  {
   "cell_type": "code",
   "execution_count": 71,
   "metadata": {
    "collapsed": true
   },
   "outputs": [],
   "source": []
  },
  {
   "cell_type": "code",
   "execution_count": null,
   "metadata": {
    "collapsed": true
   },
   "outputs": [],
   "source": []
  }
 ],
 "metadata": {
  "kernelspec": {
   "display_name": "Python 3",
   "language": "python",
   "name": "python3"
  },
  "language_info": {
   "codemirror_mode": {
    "name": "ipython",
    "version": 3
   },
   "file_extension": ".py",
   "mimetype": "text/x-python",
   "name": "python",
   "nbconvert_exporter": "python",
   "pygments_lexer": "ipython3",
   "version": "3.4.3"
  },
  "widgets": {
   "state": {
    "003cecffd29041eb9f33754cb0017f26": {
     "views": []
    },
    "011f50932b864587be0909cd7ecdf469": {
     "views": []
    },
    "01c8c5541ea2459ab7ee27879e0daf56": {
     "views": []
    },
    "01d366f4425e43739e2514acc17eb685": {
     "views": []
    },
    "0353628d75ec41dcafb7b759075b6ee7": {
     "views": []
    },
    "03683cf66f564306a0eea8eb81475463": {
     "views": []
    },
    "03e2507b657345eca3ca870b5253564e": {
     "views": []
    },
    "03fac8803ddf4100aae98fe41f2a4695": {
     "views": []
    },
    "0439c61bc2d44c979873f52668161517": {
     "views": []
    },
    "045c7af25f75484ba29270a384bdebc4": {
     "views": []
    },
    "04dd0cf107fd42fda44a70267cce796c": {
     "views": []
    },
    "077ec3b996764c2fac2fc847be393b8f": {
     "views": []
    },
    "08e5d0c143134264acd44a996dc32cb5": {
     "views": []
    },
    "09a63d62cbea46158cb23c92f3934551": {
     "views": []
    },
    "0ac532924d6b48d0a2a20bc7ec6eb01a": {
     "views": []
    },
    "0bdb38d2f2a644a1922b255faa5d95ac": {
     "views": []
    },
    "0bf224a9a05e40368144e58b8b5e789d": {
     "views": []
    },
    "0c75de5ae4a64950847004a289086f3a": {
     "views": []
    },
    "0f37c2a22547431089706b112e9d9072": {
     "views": []
    },
    "0f556bf6d79e4f9a855c966e96e7f927": {
     "views": []
    },
    "0f916d0b85c94016a22d6b5d0274ec75": {
     "views": []
    },
    "1026174989e4449185068f971ddb00c7": {
     "views": []
    },
    "1044197424014788a71c59f22b3a0165": {
     "views": []
    },
    "105debb35486449dafd03ecd0a4915c9": {
     "views": []
    },
    "1283bca2aa0842b89ebf945587bd8b27": {
     "views": []
    },
    "130220672ea04fa1a345b57990edfb6d": {
     "views": []
    },
    "14fa5ea7023e4d33afe5d83c66676345": {
     "views": []
    },
    "154024cbeefc454aabcb51d8fa208b8b": {
     "views": []
    },
    "154ee9864f8c4bd0890b7b92f82970df": {
     "views": []
    },
    "15ef417942d24c64a3aa0a67803b879f": {
     "views": []
    },
    "16650638735c4c7cb3b2344e48f12b8a": {
     "views": []
    },
    "16df215d806541ed8797c47e2c3e57b8": {
     "views": []
    },
    "16ec9164f3dd4327b6f1fcdbfeeadf6a": {
     "views": []
    },
    "193ce5eb49374ab99a71df657ad8de4f": {
     "views": []
    },
    "1cb47eb641bd46e583167db1aa51d1de": {
     "views": []
    },
    "1d2096a6f70b42808f087e1c12621600": {
     "views": []
    },
    "1eabe8df33694cd99fa59bfba58388b6": {
     "views": []
    },
    "1ec8e5c8e4034360acfdf6121b573c55": {
     "views": []
    },
    "1f04609426d24c6a974eac6cc22d3674": {
     "views": []
    },
    "1f2b9ad16191483fba9fd84bce25db64": {
     "views": []
    },
    "2083e1184db840a38639f37f2d338c5c": {
     "views": []
    },
    "2084b0972f534409ba3135ad6d640cfa": {
     "views": []
    },
    "225626776d464c289714f21676563a55": {
     "views": []
    },
    "234c489a6c7e4b00b654f792459326be": {
     "views": []
    },
    "2382fd30241e46f5bbca886a651bcf93": {
     "views": []
    },
    "240282497de24bdeb39077689e66091c": {
     "views": []
    },
    "244eafa3bcac4015bb8b24028a1cd23c": {
     "views": []
    },
    "2494b23e28e24b8a93a7ec7496a8f218": {
     "views": []
    },
    "24fdf6febc7d4c29a277080d9c274b4f": {
     "views": []
    },
    "2589c1127efd494582e0d197ddfa1958": {
     "views": []
    },
    "2599325ce70d4e5997dc367bea7ee9d8": {
     "views": []
    },
    "26273356c92a4b3f91a6abc08d4c5eb0": {
     "views": []
    },
    "270b394945e14e3cbc314b027af568ef": {
     "views": []
    },
    "294bb4913bd248948a97fbc1496a6c30": {
     "views": []
    },
    "2971012a852543368efb7a45cec610bd": {
     "views": []
    },
    "29eff6c98751482794210abc11430709": {
     "views": []
    },
    "29fd394cbac246f3a2aabeb0ae1e9fc9": {
     "views": []
    },
    "2a2f3cda5673411a966bad565316a21b": {
     "views": []
    },
    "2be9de3453634e18bdac19bf600c7a2c": {
     "views": []
    },
    "2c4f04b3f4a3402d87dc679b8d7bdc3d": {
     "views": []
    },
    "2e5d47018fca4ee4a056108eeb67a922": {
     "views": []
    },
    "2ef37287e31746558f3f092696fcd295": {
     "views": []
    },
    "2f4f2515b25946c4811267a3a5da8742": {
     "views": []
    },
    "317344efb579462d979c9f6e86e966a5": {
     "views": []
    },
    "32556e62f3e3499c9263bdaa2d07aa8d": {
     "views": []
    },
    "3465ac51b026475baa4acf4533a168ce": {
     "views": []
    },
    "3501762e0ccf4906a956d4a3098bc384": {
     "views": []
    },
    "365f1dd7ec0940a5bb8f86bf737ba8af": {
     "views": []
    },
    "36ab2ec40b2b45fcb3adbbe03fda1a28": {
     "views": []
    },
    "379c529a13e34f49843135214d506b4e": {
     "views": []
    },
    "37a72e0cb4884a08b469c52acbb62044": {
     "views": []
    },
    "38658dda8bb642ab80e491d749716913": {
     "views": []
    },
    "3885868f3c474720852826f39a904ddc": {
     "views": []
    },
    "3959468722e947979af8288c4f9feac9": {
     "views": []
    },
    "3afcf258b726440ea353f9ec782216e5": {
     "views": []
    },
    "3b0030c1908d4a97bd33a3084a8014e8": {
     "views": []
    },
    "3b178c3c030f424bb06ddba58f1fc9de": {
     "views": []
    },
    "3c0371744eb244b5b420278b851d6d1c": {
     "views": []
    },
    "3d382be99b3546c4aa7cce35379d2d79": {
     "views": []
    },
    "3e6355cea67e4aa5beeb9f821275ff14": {
     "views": []
    },
    "3e71dace62904bd7bfb3be6fce2eceaa": {
     "views": []
    },
    "3ec74075dad94b59ad0068acd0128363": {
     "views": []
    },
    "3f66321c981a4f89bacdc4b60932af7e": {
     "views": []
    },
    "3fb48d3e176140d7baf1902683496a73": {
     "views": []
    },
    "41b57ee742a94200b4fb6838957f10d5": {
     "views": []
    },
    "440e1031ef1742fea537ca209fdd7484": {
     "views": []
    },
    "44f5e1812e7e4523abdae0b4cd738589": {
     "views": []
    },
    "4517b6bd33014e658d4b009ad659abaf": {
     "views": []
    },
    "4647943a472b46c1abf848cd3c9c0b6c": {
     "views": []
    },
    "47f7ab9df80d42da95fa30b90dc6e1c6": {
     "views": []
    },
    "4823dc42340747ffb8eba556105173d5": {
     "views": []
    },
    "48cc83cc4bd24311bf326de1ff33cabe": {
     "views": []
    },
    "4a3076d024c84809964f79e1d846af66": {
     "views": []
    },
    "4a3a9eb614944473883fa2ec375af64f": {
     "views": []
    },
    "4b8c3df1a3ce42248172073a1390a294": {
     "views": []
    },
    "4ba80d11729e4da3889d9d4dd0fa95a2": {
     "views": []
    },
    "4c288da706004eb4b32f80e9fbaafa42": {
     "views": []
    },
    "4ca8bf4167fb4d988b278db07ecedc44": {
     "views": []
    },
    "4e981c6c2bf34f7783542cac531cd42f": {
     "views": []
    },
    "4f0a895cc82a41ffb7443db05071a01a": {
     "views": []
    },
    "4fe40b524e8245e28cb9a566e5d3922c": {
     "views": []
    },
    "4ffc452856f64c259149525cf7fe51ae": {
     "views": []
    },
    "51af9d0f4b9e46b0864b95acbefadc35": {
     "views": []
    },
    "5229e027f6064609a752d2924505b7bb": {
     "views": []
    },
    "527def32592747868543546869c0b724": {
     "views": []
    },
    "52af43e21545432dab9c744ebdd3eb4c": {
     "views": []
    },
    "52fb514d0aa14585a4e99c62b66b5f36": {
     "views": []
    },
    "53c7d91e36f741ec9f40e1abcb725cb4": {
     "views": []
    },
    "53d7819929eb44139ba840e76f2c775b": {
     "views": []
    },
    "53e56d3d25f443bebd357992069275d9": {
     "views": []
    },
    "547da434a3f34e6d94a39fab5e0796ce": {
     "views": []
    },
    "5549724c15c142c3bc1e74385598b2f5": {
     "views": []
    },
    "5554a4b169a1464d831c16b914207630": {
     "views": []
    },
    "569903e9423143298cfeabd92b18f37b": {
     "views": []
    },
    "58ac0e9401e94ceba589e00b93a6aee2": {
     "views": []
    },
    "591653bae55a4deca72bab90b1134119": {
     "views": []
    },
    "59e215fbd6e741f486267719f914890e": {
     "views": []
    },
    "5a0404215aa1476a960d713539baeb46": {
     "views": []
    },
    "5a507715765140c5b3f37b4f286fbf63": {
     "views": []
    },
    "5ac7ac2eb1754e1eb178ad66d4e758d1": {
     "views": []
    },
    "5aca6ead7189454a9ea252e9792329ce": {
     "views": []
    },
    "5d04f27b2056469cb8bb81ad066f5fbf": {
     "views": []
    },
    "5d4b91e7ce734770a8c163bfa67e3b76": {
     "views": []
    },
    "6061713b44fe4a849503745a6a2cb05e": {
     "views": []
    },
    "61022a44e0554e5385efa728efd980ac": {
     "views": []
    },
    "61adfb5936974ed59dce0df759391929": {
     "views": []
    },
    "6294e208e613413499194f7a439b5709": {
     "views": []
    },
    "62ffaa9c03a240119a3bd1b8d06a4b59": {
     "views": []
    },
    "64072dfa65cc46358d30df10a945e4d6": {
     "views": []
    },
    "647d390fae8c451e89e3b9ed0183aae1": {
     "views": []
    },
    "64df0db004154055b0f3f9c6781f1c07": {
     "views": []
    },
    "672b494b92ad49038a17ebf5fc5fda21": {
     "views": []
    },
    "681cb7553e83455d92d359a35f66a4e9": {
     "views": []
    },
    "68e32c0729ab42caa86e74a7e8c1709b": {
     "views": []
    },
    "68f75375a8a6433e8cb2212f05e94c76": {
     "views": []
    },
    "6922d19d14b94610b5ee88c4e1828608": {
     "views": []
    },
    "6a3d398ef57e443e849382f1d16e3847": {
     "views": []
    },
    "6aa6e86855324bdf895a1459ad032115": {
     "views": []
    },
    "6ac572988896486e90e49516ede87352": {
     "views": []
    },
    "6b3bfc63eb0444f2bfa6f76558213a1a": {
     "views": []
    },
    "6c0562659aaa41718b27da857dcd3ae0": {
     "views": []
    },
    "6d0838ef2f22497fba520dca1cef1309": {
     "views": []
    },
    "6d650f4cac764df88a10e717a2512475": {
     "views": []
    },
    "701d153d40bc481284e2e94973083cd4": {
     "views": []
    },
    "72ff264792f8458ba73ca4766f9d0627": {
     "views": []
    },
    "735b05391874442abcf441cba86ebbed": {
     "views": []
    },
    "736809946d754a809c453840a75ce1f6": {
     "views": []
    },
    "73ed752c3ef04802a399c11bda110166": {
     "views": []
    },
    "7461e5fba6ef40a1b764b6fc990e0ebb": {
     "views": []
    },
    "7544f0f8f21745678f627f2747bbfb34": {
     "views": []
    },
    "76a894ec6267446c965fe267fa8fbe6c": {
     "views": []
    },
    "7931ad067788403ba16f1b2f6d754ee4": {
     "views": []
    },
    "7bb15df347e049cd9a6b5f98ee40d4df": {
     "views": []
    },
    "7d49254064dc49e08a559c557039cfbe": {
     "views": []
    },
    "7daee7b421ab47ddaf99c2125fcc9ee3": {
     "views": []
    },
    "7e8173b942a54c8295850769579ca1bb": {
     "views": []
    },
    "7eac0fd827c04db897a390b5d6cc3938": {
     "views": []
    },
    "7edef005d54940b1b6162658c1043860": {
     "views": []
    },
    "80ba5f3e5e2f40e8a51959ef5a87b80e": {
     "views": []
    },
    "8261cde95c93480b8386b94f0cf5b26f": {
     "views": []
    },
    "84a22947480046a9a099783e4462bf01": {
     "views": []
    },
    "86712cea9e1f4d4ab58f8a25465e44bd": {
     "views": []
    },
    "88576209423146c1871c712aaa1459b5": {
     "views": []
    },
    "88cbd8ee88434c34b7fff6ef61571490": {
     "views": []
    },
    "88ce0227b419414eb9d52a27b86477df": {
     "views": []
    },
    "890bc7651e264750a8a69b7effac6ada": {
     "views": []
    },
    "895e091f385a4d99b7b2c95e43dda007": {
     "views": []
    },
    "89fff8fd77404dd393a7af6e12e95d81": {
     "views": []
    },
    "8a3bc682ea7644298e245b6e865458cd": {
     "views": []
    },
    "8b808dea8637429f8ef9d8037e63889f": {
     "views": []
    },
    "8c454e1bbd554270ad75537c25b69f47": {
     "views": []
    },
    "8d08dfcd914c460789a8490b4fdb4262": {
     "views": []
    },
    "8e694fce25fe4c238e4c4793f9ac65c1": {
     "views": []
    },
    "8e81f9afd5f9478396048b681ae1ff04": {
     "views": []
    },
    "8f53366f1ceb44568faa7c60cbb45ef4": {
     "views": []
    },
    "90bc65b3108e487ba967f4d05ce25f73": {
     "views": []
    },
    "90d9186dd1884e50ac30578ebe2d074f": {
     "views": []
    },
    "90e767e4a165423796834672dee6acc4": {
     "views": []
    },
    "90fe02bb228943c49bf6b38bec15c8be": {
     "views": []
    },
    "910eaec87dd241acb9dc861a15e8db16": {
     "views": []
    },
    "912eba268b654e9b81eb4011b61ed78e": {
     "views": []
    },
    "918f5eed412f40169ab9646b711df199": {
     "views": []
    },
    "91cba864f38e469b81fcfff72c5195e3": {
     "views": []
    },
    "91e62f5a44544e8d8fa9e7a0513b0528": {
     "views": []
    },
    "922c6c4aef5849e88dbe13e4223fe682": {
     "views": []
    },
    "924503cb5775416dafe1a232b8c91b65": {
     "views": []
    },
    "92a9eb15fe684ca6af18c53926484d84": {
     "views": []
    },
    "94b536d4231f4742af31266a655780e4": {
     "views": []
    },
    "95a15b7149934fcca942e1364bf34068": {
     "views": []
    },
    "9768804481924ba98b561b6b35178eb3": {
     "views": []
    },
    "985e33fb0d3a4f5ebfde259ab238589f": {
     "views": []
    },
    "9873f09ab9af48ba803e954bbf8d7782": {
     "views": []
    },
    "9acf300fda11497faf52223fbbc8b0ed": {
     "views": []
    },
    "9bad7709f7484248bb860b4d8c3c7512": {
     "views": []
    },
    "9d1ced9d934d4130b1405c40724884c2": {
     "views": []
    },
    "9e717b8f967945d4b980b57a71cb117a": {
     "views": []
    },
    "9f2d58b7ec14492bba65065f74371049": {
     "views": []
    },
    "9f4ca04cad734d7ca355d55b13e6e218": {
     "views": []
    },
    "9fcc97da4814427b94c28c14f7f4ffdc": {
     "views": []
    },
    "9ffdfb93a7a8449fbcf8df820fc4f749": {
     "views": []
    },
    "a03a701854214a478313a91403ca2fb2": {
     "views": []
    },
    "a171666466d0478f8e710ee391cbfa0c": {
     "views": []
    },
    "a2b812b6313e45b88773b18c17c9f24f": {
     "views": []
    },
    "a2ccb88300594a8fa1b09455bc2cade1": {
     "views": []
    },
    "a3e5ac675439490da61c62312ee094c3": {
     "views": []
    },
    "a3eed5e171464dfb86434a8f68407dc9": {
     "views": []
    },
    "a468df382d424e2fb7aa29335da4d9df": {
     "views": []
    },
    "a7068834f65c4f20aa83d224bec8f056": {
     "views": []
    },
    "a79e0122aa86439694329613c8f5b5d9": {
     "views": []
    },
    "a84b165d40d64a01b39d4a6b809369e6": {
     "views": []
    },
    "a8e81fd5e81f4a42bd8ea8f43057e2aa": {
     "views": []
    },
    "a989ca0d33bd4497b1a1f71d82ea761a": {
     "views": []
    },
    "a9e7cfbda99f42598cb2db67477dfb11": {
     "views": []
    },
    "ac9ac066391e4b5b929aaee182dd6d06": {
     "views": []
    },
    "ad49ecaf2d31408787577cb46d0bc9f6": {
     "views": []
    },
    "ad6cd86a9e74414cb97db1842fde7d44": {
     "views": []
    },
    "af09f14163d0452485dbc13d62bc8722": {
     "views": []
    },
    "af3d39a8852e4f968bba7903d62cea05": {
     "views": []
    },
    "af41cb481d334d0696669f516dff2d54": {
     "views": []
    },
    "af41ffdccace4603815b67abc4ec2fa5": {
     "views": []
    },
    "b0941b9790894b81a6dfe73d9e19943b": {
     "views": []
    },
    "b25d23ae6dde4177b34b25cd83a003f1": {
     "views": []
    },
    "b2b9e1a32c6e4f86810d6d2f590aa09d": {
     "views": []
    },
    "b306ea522a1a4dc5be5962c6874c8883": {
     "views": []
    },
    "b43db8e4e77e4bcdba0daec5c1cb65ec": {
     "views": []
    },
    "b540ce775d5345dabeca73a16212fa99": {
     "views": []
    },
    "b6522f18b0f34f598ada1f5e78f463c3": {
     "views": []
    },
    "b8448ddf6e4342baa1aa51abb64470af": {
     "views": []
    },
    "b8c652b719b9425db222073d647d63ee": {
     "views": []
    },
    "b9c183e4a67745da95ff9f0014f647ec": {
     "views": []
    },
    "ba20642781904e55be9d9c5cc5f8d0ee": {
     "views": []
    },
    "bb1536084d404b5b8bb3cbcd977f58cb": {
     "views": []
    },
    "bb1980de714548d0a2d5319079f50933": {
     "views": []
    },
    "bca89920ea4848df8aef18c9fc9710ff": {
     "views": []
    },
    "bd07b749817a44ab81859b7607fe5e77": {
     "views": []
    },
    "bd174edb231049f989c42701329a3879": {
     "views": []
    },
    "bd2c851a0a6948098f7ff017a4dd9157": {
     "views": []
    },
    "bda921a632fc4aa09412f24202753ee5": {
     "views": []
    },
    "be5c3e2ffaa04b008c11e042ee5c0aa9": {
     "views": []
    },
    "bf0e688ae3ec46e9829cd72e48deadd8": {
     "views": []
    },
    "c0d43d0e33f04a85951e9b750b6bc27a": {
     "views": []
    },
    "c0dd9c9d7aba44b7a54371d5645dcae5": {
     "views": []
    },
    "c1769267907648118c271b97a873987a": {
     "views": []
    },
    "c2260a14d78c4c03b121fa3e8b8b6830": {
     "views": []
    },
    "c2b6ca6152a048849c142b2a6dfc0333": {
     "views": []
    },
    "c33a7ea94e4a47cda98ad11f3681d8cb": {
     "views": []
    },
    "c36d36554f49494f98f8b8f4c6bf9c0e": {
     "views": []
    },
    "c4d7faf9e33b416eb4a4d23d1915c32d": {
     "views": []
    },
    "c4fab581ff1543c393e2e0ff1fdfd689": {
     "views": []
    },
    "c7325690e4994c8e8d49dcc10a9e30a3": {
     "views": []
    },
    "c738831c35384b9eb255a4bd67df4a4e": {
     "views": []
    },
    "c7be90a1dc914c6ebc1857c067875c6a": {
     "views": []
    },
    "c7cb5aa57318424f845e9c374af153b1": {
     "views": []
    },
    "c87bbd9299fd4cd5aed113583c454edb": {
     "views": []
    },
    "c8adb827f1474c83aeb169b0182a1996": {
     "views": []
    },
    "c8d14f7ebc4d49418977bceb60f849bb": {
     "views": []
    },
    "ca5c717337b84b1d876b783eecd533f1": {
     "views": []
    },
    "cab31e0dc3cf43989ef8e3f32bf7b4c2": {
     "views": []
    },
    "cb7a762bd85346d3a9422b8ee03ebf92": {
     "views": []
    },
    "cc1a1f3cae2944d78ab1478735b3d74d": {
     "views": []
    },
    "cc70f01d54f74b418ff11d0eea95863c": {
     "views": []
    },
    "ccac67985f864f81bbe837de21545e7d": {
     "views": []
    },
    "ccc4c523c0bd43158dad7ae1fd0cd5eb": {
     "views": []
    },
    "cce347ee38bc4e30897f4f2321a1058f": {
     "views": []
    },
    "ccf1c128c45b4c258e268c44191f7c4b": {
     "views": []
    },
    "cd43994debbb462d90b0bd1895a96798": {
     "views": []
    },
    "cd4a1fb2c017449bbb93123f1fc85afe": {
     "views": []
    },
    "cd62f148910140d09e4fb88f704c9cfd": {
     "views": []
    },
    "cec797aa4e7f4f709251e188df956536": {
     "views": []
    },
    "cf58e77863e54736942926af66aea9fd": {
     "views": []
    },
    "cfb088385a5b4372bf51fdc93b2e6f73": {
     "views": []
    },
    "d1e9c871a30742d3897052b5538b34e1": {
     "views": []
    },
    "d24831823de84c0f9a50a32d5b32521a": {
     "views": []
    },
    "d2deea0ffd30498f8bbc4a40b35e80ea": {
     "views": []
    },
    "d4aeb64accdb4903ab8bbb88228b0703": {
     "views": []
    },
    "d618a8df17c44ea689962b8165206367": {
     "views": []
    },
    "d662c05cea6143d18771f1877e2fcaec": {
     "views": []
    },
    "d754acb0bd4d43378ad55f6d6b795b9e": {
     "views": []
    },
    "d7bbf6377e114149916eb758db628185": {
     "views": []
    },
    "d85b446bc9884da9ab41585d085dcb90": {
     "views": []
    },
    "d8caee05c4ad410c8ce895e226d03733": {
     "views": []
    },
    "d97a0fac6a7e48c6bc4cde5f06b25da6": {
     "views": []
    },
    "d97af2b0836a4bf4b44435ed636f5fc2": {
     "views": []
    },
    "d990305a0e744bbcab34f57277bf447d": {
     "views": []
    },
    "dd113d7be2ca43fbab67dce8a84ff144": {
     "views": []
    },
    "ddedfd1730304f4aaa3b7db9c36c0515": {
     "views": []
    },
    "de05b8a825424d9fbf0661701bf5c5ba": {
     "views": []
    },
    "de293ab24a77428ba0a9e80bb71d2ac8": {
     "views": []
    },
    "dee0132599b84dd2a86326e18c21e97a": {
     "views": []
    },
    "df5187d6028e47ae9b919bdbdaaa4098": {
     "views": []
    },
    "e16fce13e14d49d8ac702a92e92da39e": {
     "views": []
    },
    "e23bbb3d38404da4a57ecf21fbaa434d": {
     "views": []
    },
    "e2844258926740f185b1e1800c9957c5": {
     "views": []
    },
    "e2ff48d415bf4e0ab11af56f08d66fe3": {
     "views": []
    },
    "e3cff9fead9e4de493abc0be872607ff": {
     "views": []
    },
    "e3dc05008c46463a9920b5f86670f67c": {
     "views": []
    },
    "e4c7e41943f142e08657bc48d0321a59": {
     "views": []
    },
    "e7422e513f3a45139b747a3e57dfc6ce": {
     "views": []
    },
    "e7a81ff8a1ae4ca989f429230e0f8ae1": {
     "views": []
    },
    "e7e3beaa13454a59a3d90f8391dd2c40": {
     "views": []
    },
    "e81e9783cbf54bdb8ae0039bce17ddf6": {
     "views": []
    },
    "ea4a65eca83b46de864f465874e04e5a": {
     "views": []
    },
    "eab56f9d1eee4603888ec0f057323e5b": {
     "views": []
    },
    "eae02c63327b48068fa867ba92cdcce4": {
     "views": []
    },
    "ebb6bb79c2d94a9eb66f50fa46879859": {
     "views": []
    },
    "ebbf4bc480e94027a7cc851a8ec0a57a": {
     "views": []
    },
    "ebdf12349a4644ee8ed3e32684b0e5b0": {
     "views": []
    },
    "ebf868b0bdaa43269dacb26369db0ae3": {
     "views": []
    },
    "ec6feb84478449ae9ba05df4f2aa1fa1": {
     "views": []
    },
    "edc2ed7ef67245e8b2fc84a98695ca6b": {
     "views": []
    },
    "ee280c806fed44178e0168fc8f9897d5": {
     "views": []
    },
    "eed993d3b2384c6c95471697c020804e": {
     "views": []
    },
    "eff23b0049394a19b89c9ea0c9d81a98": {
     "views": []
    },
    "f04e6a7386f14744b155ff68f8c29b1a": {
     "views": []
    },
    "f07aa68352464da19b732f0248e43723": {
     "views": []
    },
    "f1027ecfc48c48cc92d385fc69211473": {
     "views": []
    },
    "f157f7fc574d4cc790b4bbb1f5631f01": {
     "views": []
    },
    "f1824032017549f49688f57e7a35d151": {
     "views": []
    },
    "f1f09a9afd2e40b08eb9bbc93112002b": {
     "views": []
    },
    "f248d722212f4e30a0765ed332e71702": {
     "views": []
    },
    "f2796e82679e43b88c2ffc6667367d0e": {
     "views": []
    },
    "f3467794c4ef4944a47e8740a12c945a": {
     "views": []
    },
    "f36cb0f048ae4669813317dfb792934f": {
     "views": []
    },
    "f48f9a2b79ce41938b9e0fd3bc1a53a9": {
     "views": []
    },
    "f5ac821f87494599aae177975d106389": {
     "views": []
    },
    "f6eaa2db12054118b92e6068bf4ace66": {
     "views": []
    },
    "f71b3635e50d40138da8bdbbd5e9904f": {
     "views": []
    },
    "f7e83c010f6c4213a57e95a100a9b977": {
     "views": []
    },
    "f83f28366dec4fd2b1a5666110a2b261": {
     "views": []
    },
    "f89594fa933b46b2abc771fbfc6363f0": {
     "views": []
    },
    "fafa7f3b60b14067b144767411421ba3": {
     "views": []
    },
    "fbd1d49877094e54ad4f590a55cfe221": {
     "views": []
    },
    "fc2277fdffee49d2ad5b5f4e212b1532": {
     "views": []
    },
    "fc924771dcbc4d20b6ed582b0393a3bc": {
     "views": []
    },
    "fd2fe22e924246788e4a2dad4ff148e3": {
     "views": []
    },
    "ffbef3b9e7b94b4c96d7d52633ffc96c": {
     "views": []
    },
    "ffd35d55311c4cda9a71a9915b8b82ea": {
     "views": []
    }
   },
   "version": "1.1.2"
  }
 },
 "nbformat": 4,
 "nbformat_minor": 0
}
