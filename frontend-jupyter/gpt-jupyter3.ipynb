{
 "cells": [
  {
   "cell_type": "code",
   "execution_count": 446,
   "metadata": {
    "collapsed": false
   },
   "outputs": [
    {
     "data": {
      "application/javascript": [
       "document.domain='gpt.org'\n",
       "require.undef('panel');\n",
       "\n",
       "define('panel', [\"jupyter-js-widgets\"], function(widgets) {    \n",
       "    \n",
       "var geppettoJupyterWidgets = window.parent.require('components/GeppettoJupyterWidgets')  \n",
       "\n",
       "    return {\n",
       "        PanelView: geppettoJupyterWidgets.PanelView,\n",
       "        PanelModel: geppettoJupyterWidgets.PanelModel,\n",
       "    };\n",
       "});\n",
       "define('raisedButton', [\"jupyter-js-widgets\"], function(widgets) {\n",
       "\n",
       "   \n",
       "var geppettoJupyterWidgets = window.parent.require('components/GeppettoJupyterWidgets')  \n",
       "    \n",
       "    return {\n",
       "        RaisedButtonView: geppettoJupyterWidgets.RaisedButtonView\n",
       "    };\n",
       "});"
      ],
      "text/plain": [
       "<IPython.core.display.Javascript object>"
      ]
     },
     "metadata": {},
     "output_type": "display_data"
    }
   ],
   "source": [
    "%%javascript\n",
    "document.domain='gpt.org'\n",
    "require.undef('panel');\n",
    "\n",
    "define('panel', [\"jupyter-js-widgets\"], function(widgets) {    \n",
    "    \n",
    "var geppettoJupyterWidgets = window.parent.require('components/GeppettoJupyterWidgets')  \n",
    "\n",
    "    return {\n",
    "        PanelView: geppettoJupyterWidgets.PanelView,\n",
    "        PanelModel: geppettoJupyterWidgets.PanelModel,\n",
    "    };\n",
    "});\n",
    "define('raisedButton', [\"jupyter-js-widgets\"], function(widgets) {\n",
    "\n",
    "   \n",
    "var geppettoJupyterWidgets = window.parent.require('components/GeppettoJupyterWidgets')  \n",
    "    \n",
    "    return {\n",
    "        RaisedButtonView: geppettoJupyterWidgets.RaisedButtonView\n",
    "    };\n",
    "});\n"
   ]
  },
  {
   "cell_type": "code",
   "execution_count": 447,
   "metadata": {
    "collapsed": false
   },
   "outputs": [],
   "source": [
    "import ipywidgets as widgets\n",
    "from traitlets import (Unicode, Instance, List)\n",
    "\n",
    "class RaisedButtonWidget(widgets.Widget):\n",
    "    _view_name = Unicode('RaisedButtonView').tag(sync=True)\n",
    "    _view_module = Unicode('raisedButton').tag(sync=True)\n",
    "    \n",
    "    widget_id = Unicode('').tag(sync=True)\n",
    "    \n",
    "    def __init__(self, **kwargs):\n",
    "        super(RaisedButtonWidget, self).__init__(**kwargs)\n",
    "        self._click_handlers = widgets.CallbackDispatcher()\n",
    "        self.on_msg(self._handle_button_msg)\n",
    "        \n",
    "    def on_click(self, callback, remove=False):\n",
    "        \"\"\"Register a callback to execute when the button is clicked.\n",
    "\n",
    "        The callback will be called with one argument, the clicked button\n",
    "        widget instance.\n",
    "\n",
    "        Parameters\n",
    "        ----------\n",
    "        remove: bool (optional)\n",
    "            Set to true to remove the callback from the list of callbacks.\n",
    "        \"\"\"\n",
    "        self._click_handlers.register_callback(callback, remove=remove)\n",
    "\n",
    "    def _handle_button_msg(self, _, content, buffers):\n",
    "        \"\"\"Handle a msg from the front-end.\n",
    "\n",
    "        Parameters\n",
    "        ----------\n",
    "        content: dict\n",
    "            Content of the msg.\n",
    "        \"\"\"\n",
    "        if content.get('event', '') == 'click':\n",
    "            self._click_handlers(self)\n",
    "\n",
    "class PanelWidget(widgets.Widget):\n",
    "    _view_name = Unicode('PanelView').tag(sync=True)\n",
    "    _view_module = Unicode('panel').tag(sync=True)\n",
    "    _model_name = Unicode('PanelModel').tag(sync=True)\n",
    "    _model_module = Unicode('panel').tag(sync=True)\n",
    "        \n",
    "    items = List(Instance(RaisedButtonWidget)).tag(sync=True, **widgets.widget_serialization)    \n",
    "    \n",
    "    def __init__(self, **kwargs):\n",
    "        super(PanelWidget, self).__init__(**kwargs)\n",
    "        self._click_handlers = widgets.CallbackDispatcher()\n",
    "        self.on_msg(self._handle_income_msg)\n",
    "        \n",
    "    def on_click(self, callback, remove=False):\n",
    "        \"\"\"Register a callback to execute when the button is clicked.\n",
    "\n",
    "        The callback will be called with one argument, the clicked button\n",
    "        widget instance.\n",
    "\n",
    "        Parameters\n",
    "        ----------\n",
    "        remove: bool (optional)\n",
    "            Set to true to remove the callback from the list of callbacks.\n",
    "        \"\"\"\n",
    "        self._click_handlers.register_callback(callback, remove=remove)\n",
    "\n",
    "    def _handle_income_msg(self, _, content, buffers):\n",
    "        \"\"\"Handle a msg from the front-end.\n",
    "\n",
    "        Parameters\n",
    "        ----------\n",
    "        content: dict\n",
    "            Content of the msg.\n",
    "        \"\"\"\n",
    "        if content.get('event', '') == 'click':\n",
    "            self._click_handlers(self)\n",
    "    \n",
    "    def addChild(self, child):\n",
    "        self.items = [i for i in self.items] + [child]\n"
   ]
  },
  {
   "cell_type": "code",
   "execution_count": 450,
   "metadata": {
    "collapsed": false
   },
   "outputs": [],
   "source": [
    "r= RaisedButtonWidget(widget_id='First')\n",
    "n= RaisedButtonWidget(widget_id='Second')\n",
    "k= RaisedButtonWidget(widget_id='Third')\n",
    "def print_test(self):\n",
    "    print('kake')\n",
    "k.on_click(print_test)\n",
    "p = PanelWidget(items=[n])\n",
    "p.on_click(print_test)\n",
    "p.addChild(k)\n"
   ]
  },
  {
   "cell_type": "code",
   "execution_count": 445,
   "metadata": {
    "collapsed": false
   },
   "outputs": [
    {
     "name": "stdout",
     "output_type": "stream",
     "text": [
      "kake\n"
     ]
    }
   ],
   "source": [
    "from IPython.display import display\n",
    "we = PanelWidget()\n",
    "def print_test(self):\n",
    "    print('kake')\n",
    "we.on_click(print_test)\n",
    "display(we)"
   ]
  },
  {
   "cell_type": "code",
   "execution_count": 451,
   "metadata": {
    "collapsed": false
   },
   "outputs": [
    {
     "name": "stdout",
     "output_type": "stream",
     "text": [
      "llllll\n",
      "kake\n"
     ]
    }
   ],
   "source": [
    "p"
   ]
  },
  {
   "cell_type": "code",
   "execution_count": null,
   "metadata": {
    "collapsed": true
   },
   "outputs": [],
   "source": []
  }
 ],
 "metadata": {
  "kernelspec": {
   "display_name": "Python 3",
   "language": "python",
   "name": "python3"
  },
  "language_info": {
   "codemirror_mode": {
    "name": "ipython",
    "version": 3
   },
   "file_extension": ".py",
   "mimetype": "text/x-python",
   "name": "python",
   "nbconvert_exporter": "python",
   "pygments_lexer": "ipython3",
   "version": "3.4.3"
  },
  "widgets": {
   "state": {
    "1a0b4d3f3e204119b0212e3278c572ab": {
     "views": []
    },
    "33999135ba8f46258486c514e0b8b68e": {
     "views": []
    },
    "3928450480f24ecbb971613bd022d68d": {
     "views": []
    },
    "7ddfeb9863be4b2fac4e021c2c625a05": {
     "views": []
    },
    "9b3487ab06864ccfbfea73c4c8841738": {
     "views": []
    },
    "9d797aec785b4b64a44f5e9c6ced9f00": {
     "views": [
      {
       "cell_index": 4
      }
     ]
    },
    "e8e510e5824c4058a80f01a52b5e1aa0": {
     "views": []
    },
    "f0edfe4137f1477db54a97787129e1a7": {
     "views": []
    }
   },
   "version": "1.1.2"
  }
 },
 "nbformat": 4,
 "nbformat_minor": 0
}
