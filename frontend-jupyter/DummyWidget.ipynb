{
 "cells": [
  {
   "cell_type": "code",
   "execution_count": 27,
   "metadata": {
    "collapsed": true
   },
   "outputs": [],
   "source": [
    "import ipywidgets as widgets\n",
    "from traitlets import Unicode\n",
    "\n",
    "\n",
    "class HelloWidget(widgets.DOMWidget):\n",
    "    _view_name = Unicode('HelloView').tag(sync=True)\n",
    "    _view_module = Unicode('hello').tag(sync=True)\n",
    "    value = Unicode('Hello World!').tag(sync=True)\n",
    "    \n",
    "    def __init__(self, **kwargs):\n",
    "        super(HelloWidget, self).__init__(**kwargs)\n",
    "        self._click_handlers = widgets.CallbackDispatcher()\n",
    "        self.on_msg(self._handle_button_msg)\n",
    "        \n",
    "    def on_click(self, callback, remove=False):\n",
    "        \"\"\"Register a callback to execute when the button is clicked.\n",
    "\n",
    "        The callback will be called with one argument, the clicked button\n",
    "        widget instance.\n",
    "\n",
    "        Parameters\n",
    "        ----------\n",
    "        remove: bool (optional)\n",
    "            Set to true to remove the callback from the list of callbacks.\n",
    "        \"\"\"\n",
    "        print (\"llllll0\")\n",
    "        self._click_handlers.register_callback(callback, remove=remove)\n",
    "\n",
    "    def _handle_button_msg(self, _, content, buffers):\n",
    "        \"\"\"Handle a msg from the front-end.\n",
    "\n",
    "        Parameters\n",
    "        ----------\n",
    "        content: dict\n",
    "            Content of the msg.\n",
    "        \"\"\"\n",
    "        if content.get('event', '') == 'click':\n",
    "            self._click_handlers(self)\n",
    "    "
   ]
  },
  {
   "cell_type": "code",
   "execution_count": 28,
   "metadata": {
    "collapsed": false
   },
   "outputs": [
    {
     "data": {
      "application/javascript": [
       "require.undef('hello');\n",
       "\n",
       "define('hello', [\"jupyter-js-widgets\"], function(widgets) {\n",
       "\n",
       "    var HelloView = widgets.DOMWidgetView.extend({\n",
       "\n",
       "        render: function() {\n",
       "            this.value_changed();\n",
       "            this.model.on('change:value', this.value_changed, this);\n",
       "            \n",
       "        },\n",
       "\n",
       "        value_changed: function() {\n",
       "            \n",
       "            this.send({event: 'click'});\n",
       "        },\n",
       "    });\n",
       "\n",
       "    return {\n",
       "        HelloView : HelloView\n",
       "    };\n",
       "});\n",
       "\n",
       "require(\"jupyter-js-widgets\")"
      ],
      "text/plain": [
       "<IPython.core.display.Javascript object>"
      ]
     },
     "metadata": {},
     "output_type": "display_data"
    }
   ],
   "source": [
    "%%javascript\n",
    "require.undef('hello');\n",
    "\n",
    "define('hello', [\"jupyter-js-widgets\"], function(widgets) {\n",
    "\n",
    "    var HelloView = widgets.DOMWidgetView.extend({\n",
    "\n",
    "        render: function() {\n",
    "            this.value_changed();\n",
    "            this.model.on('change:value', this.value_changed, this);\n",
    "            \n",
    "        },\n",
    "\n",
    "        value_changed: function() {\n",
    "            this.$el.text(this.model.get('value'));\n",
    "            this.send({event: 'click'});\n",
    "        },\n",
    "    });\n",
    "\n",
    "    return {\n",
    "        HelloView : HelloView\n",
    "    };\n",
    "});\n",
    "\n",
    "require(\"jupyter-js-widgets\")"
   ]
  },
  {
   "cell_type": "code",
   "execution_count": 29,
   "metadata": {
    "collapsed": false
   },
   "outputs": [
    {
     "name": "stdout",
     "output_type": "stream",
     "text": [
      "llllll0\n"
     ]
    }
   ],
   "source": [
    "w = HelloWidget()\n",
    "def print_test(self):\n",
    "    print('kake')\n",
    "w.on_click(print_test)"
   ]
  },
  {
   "cell_type": "code",
   "execution_count": 30,
   "metadata": {
    "collapsed": false
   },
   "outputs": [
    {
     "name": "stdout",
     "output_type": "stream",
     "text": [
      "kake\n",
      "kake\n"
     ]
    }
   ],
   "source": [
    "w\n"
   ]
  },
  {
   "cell_type": "code",
   "execution_count": 31,
   "metadata": {
    "collapsed": true
   },
   "outputs": [],
   "source": [
    "w.value = \"taka3\""
   ]
  },
  {
   "cell_type": "code",
   "execution_count": 35,
   "metadata": {
    "collapsed": false
   },
   "outputs": [
    {
     "data": {
      "application/javascript": [
       "console.log(require.s.contexts._.defined)"
      ],
      "text/plain": [
       "<IPython.core.display.Javascript object>"
      ]
     },
     "metadata": {},
     "output_type": "display_data"
    }
   ],
   "source": [
    "%%javascript\n",
    "console.log(require.s.contexts._.defined)\n"
   ]
  },
  {
   "cell_type": "code",
   "execution_count": null,
   "metadata": {
    "collapsed": true
   },
   "outputs": [],
   "source": []
  },
  {
   "cell_type": "code",
   "execution_count": null,
   "metadata": {
    "collapsed": true
   },
   "outputs": [],
   "source": []
  },
  {
   "cell_type": "code",
   "execution_count": null,
   "metadata": {
    "collapsed": true
   },
   "outputs": [],
   "source": []
  }
 ],
 "metadata": {
  "kernelspec": {
   "display_name": "Python 3",
   "language": "python",
   "name": "python3"
  },
  "language_info": {
   "codemirror_mode": {
    "name": "ipython",
    "version": 3
   },
   "file_extension": ".py",
   "mimetype": "text/x-python",
   "name": "python",
   "nbconvert_exporter": "python",
   "pygments_lexer": "ipython3",
   "version": "3.4.3"
  },
  "widgets": {
   "state": {
    "08bf383c660c40d58f08027b7954dd33": {
     "views": []
    },
    "1d88ba22cd534205b247a6a61c4861a5": {
     "views": []
    },
    "1ebc32054ae9413b91fc1629d96b25e0": {
     "views": []
    },
    "28f8da53ad7a43b1a4b4abf32bdf60c7": {
     "views": []
    },
    "2ef9a904e65241cdb80716b0d3d9b8b0": {
     "views": []
    },
    "3ad02cc111d344f3a5fbaa53a971a739": {
     "views": []
    },
    "4cc3110fe31e40b0aa505ddec2d8b856": {
     "views": []
    },
    "75a7efa2784f418cb6adc2c0f4fe59d6": {
     "views": []
    },
    "8391422ebcde4205a9761748baf3dd7b": {
     "views": [
      {
       "cell_index": 3
      }
     ]
    },
    "8e5b64d29eea4633bc2f9b66dd675339": {
     "views": []
    },
    "94b8ff876fc5468e9569fda30b65ff1e": {
     "views": []
    },
    "9c364dbb30a84731b65948bfb2fd88e4": {
     "views": []
    },
    "9dc5f5662f9f466e8bc179dd3d15f1c8": {
     "views": []
    },
    "be7c755af77b44229bd80be3da3757a8": {
     "views": []
    },
    "f658b015cd924f52822e1d0748986e13": {
     "views": []
    },
    "f8a00079d8ac4b7bbc031061b38a2e0a": {
     "views": []
    }
   },
   "version": "1.1.2"
  }
 },
 "nbformat": 4,
 "nbformat_minor": 0
}
